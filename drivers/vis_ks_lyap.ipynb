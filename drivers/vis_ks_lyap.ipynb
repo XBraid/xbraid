{
 "cells": [
  {
   "cell_type": "code",
   "execution_count": 4,
   "metadata": {},
   "outputs": [],
   "source": [
    "%matplotlib widget\n",
    "import matplotlib.pyplot as plt\n",
    "import ipywidgets as widgets\n",
    "import numpy as np\n",
    "from numpy.linalg import norm\n",
    "from vis_lorenz_LRDelta import read_csv"
   ]
  },
  {
   "cell_type": "code",
   "execution_count": 5,
   "metadata": {},
   "outputs": [],
   "source": [
    "def flip_vecs(vecs):\n",
    "    for i in range(1, vecs.shape[0]):\n",
    "        for j in range(vecs.shape[1]):\n",
    "            flip = norm(vecs[i, j] + vecs[i-1, j]\n",
    "                        ) < norm(vecs[i, j] - vecs[i-1, j])\n",
    "            if flip:\n",
    "                vecs[i, j] *= -1\n",
    "    return vecs"
   ]
  },
  {
   "cell_type": "code",
   "execution_count": 6,
   "metadata": {},
   "outputs": [],
   "source": [
    "us = read_csv(\"drive-ks-seq.out\")\n",
    "vs = read_csv(\"drive-ks-lv-seq.out\")\n",
    "u = read_csv(\"drive-ks.out\")\n",
    "v = read_csv(\"drive-ks-lv.out\")\n",
    "\n",
    "nt, nx = us.shape\n",
    "rank = v.shape[1] // nx\n",
    "# v = flip_vecs(v.reshape(nt, rank, nx))\n",
    "# vs = flip_vecs(vs.reshape(nt, rank, nx))\n",
    "vs = vs.reshape(nt, rank, nx)\n",
    "v = v.reshape(nt, rank, nx)"
   ]
  },
  {
   "cell_type": "code",
   "execution_count": 7,
   "metadata": {},
   "outputs": [
    {
     "data": {
      "application/vnd.jupyter.widget-view+json": {
       "model_id": "48e58f55d148485d957ae681e88742a1",
       "version_major": 2,
       "version_minor": 0
      },
      "text/plain": [
       "Canvas(toolbar=Toolbar(toolitems=[('Home', 'Reset original view', 'home', 'home'), ('Back', 'Back to previous …"
      ]
     },
     "metadata": {},
     "output_type": "display_data"
    }
   ],
   "source": [
    "stride = 2\n",
    "fig, (ax1, ax2) = plt.subplots(1, 2, figsize=(5,5))\n",
    "ax1.imshow(u[::-stride], cmap=\"plasma\", aspect=\"auto\")\n",
    "ax2.imshow(us[::-stride], cmap=\"plasma\", aspect=\"auto\")\n",
    "ax1.grid(False)\n",
    "ax2.grid(False)\n",
    "plt.show()"
   ]
  },
  {
   "cell_type": "code",
   "execution_count": 8,
   "metadata": {},
   "outputs": [
    {
     "data": {
      "application/vnd.jupyter.widget-view+json": {
       "model_id": "b21c2958548d4caca5227e8efb8691fe",
       "version_major": 2,
       "version_minor": 0
      },
      "text/plain": [
       "Canvas(toolbar=Toolbar(toolitems=[('Home', 'Reset original view', 'home', 'home'), ('Back', 'Back to previous …"
      ]
     },
     "metadata": {},
     "output_type": "display_data"
    }
   ],
   "source": [
    "plt.figure()\n",
    "plt.semilogy(np.linalg.norm(u - us, axis=1))\n",
    "plt.show()"
   ]
  },
  {
   "cell_type": "code",
   "execution_count": 9,
   "metadata": {},
   "outputs": [
    {
     "data": {
      "application/vnd.jupyter.widget-view+json": {
       "model_id": "672d7b1172df4c9598f7958a01694ac5",
       "version_major": 2,
       "version_minor": 0
      },
      "text/plain": [
       "Canvas(toolbar=Toolbar(toolitems=[('Home', 'Reset original view', 'home', 'home'), ('Back', 'Back to previous …"
      ]
     },
     "metadata": {},
     "output_type": "display_data"
    },
    {
     "data": {
      "application/vnd.jupyter.widget-view+json": {
       "model_id": "83c1cbf41701485dab2f5d6e386cc732",
       "version_major": 2,
       "version_minor": 0
      },
      "text/plain": [
       "interactive(children=(IntSlider(value=0, description='ind', max=15), Output()), _dom_classes=('widget-interact…"
      ]
     },
     "metadata": {},
     "output_type": "display_data"
    }
   ],
   "source": [
    "extent = (0, 8, 0, 64)\n",
    "x, t = np.linspace(0, 64, num=nx), np.linspace(0, 8, num=nt//stride)\n",
    "X, T = np.meshgrid(x, t)\n",
    "\n",
    "fig, axs = plt.subplots(3, 1)\n",
    "(ax1, ax2, ax3) = axs\n",
    "fig.tight_layout()\n",
    "# ax1.imshow(u[::stride], cmap=\"viridis\", extent=extent, aspect=\"auto\")\n",
    "# ax2.s(us[::stride], cmap=\"viridis\", extent=extent, aspect=\"auto\")\n",
    "\n",
    "@widgets.interact(ind=(0, rank-1, 1))\n",
    "def update(ind=0):\n",
    "    [ax.cla() for ax in axs]\n",
    "    ax1.imshow(vs[::stride, ind, :].T, cmap=\"plasma\", aspect=\"auto\", extent=extent)\n",
    "    ax2.imshow(v[::stride, ind, :].T, cmap=\"plasma\", aspect=\"auto\", extent=extent)\n",
    "    err = [norm(1 - np.abs(np.dot(v[i, ind], vs[i, ind].T))) for i in range(nt-1)]\n",
    "    # err = [norm(v[i, ind] - vs[i, ind])/norm(vs[i, ind]) for i in range(nt-1)]\n",
    "    ax3.semilogy(t, err[::stride])\n",
    "    ax3.set_ylim((1e-16, 1e1))\n",
    "    ax3.set_xlim((0, 8))\n",
    "    ax1.grid(False)\n",
    "    ax2.grid(False)\n",
    "    # ax1.contour(X, T, vs[:-(1+nt%2):stride, ind])\n",
    "    # ax2.contour(X, T, v[:-(1+nt%2):stride, ind])\n"
   ]
  },
  {
   "cell_type": "code",
   "execution_count": 10,
   "metadata": {},
   "outputs": [
    {
     "data": {
      "application/vnd.jupyter.widget-view+json": {
       "model_id": "e62dc9322b194f878ce405dd6c0ea75c",
       "version_major": 2,
       "version_minor": 0
      },
      "text/plain": [
       "Canvas(toolbar=Toolbar(toolitems=[('Home', 'Reset original view', 'home', 'home'), ('Back', 'Back to previous …"
      ]
     },
     "metadata": {},
     "output_type": "display_data"
    }
   ],
   "source": [
    "inds = range(12)\n",
    "orth = [norm(np.eye(rank) - v[i, ...] @ v[i, ...].T) for i in range(nt-1)]\n",
    "err = [norm(np.eye(inds[-1]+1) - np.dot(v[i, inds], vs[i, inds].T)) for i in range(nt-1)]\n",
    "\n",
    "plt.figure()\n",
    "plt.semilogy(err)\n",
    "plt.show()"
   ]
  },
  {
   "cell_type": "code",
   "execution_count": 11,
   "metadata": {},
   "outputs": [
    {
     "data": {
      "application/vnd.jupyter.widget-view+json": {
       "model_id": "1f00e7aaa8904e15945bf15a518e4cbf",
       "version_major": 2,
       "version_minor": 0
      },
      "text/plain": [
       "Canvas(toolbar=Toolbar(toolitems=[('Home', 'Reset original view', 'home', 'home'), ('Back', 'Back to previous …"
      ]
     },
     "metadata": {},
     "output_type": "display_data"
    }
   ],
   "source": [
    "def modarcos(arg):\n",
    "    return np.arccos(np.pi*(arg % np.pi))\n",
    "plt.figure()\n",
    "errs = np.zeros(rank)\n",
    "for j in range(0, rank, 8):\n",
    "    plt.semilogy(np.abs([1 - np.dot(vs[i, j], v[i, j].T) for i in range(nt)]), label=f\"{j}\")\n",
    "    # errs[j] = np.arccos(np.clip([np.dot(vs[i, j], v[i, j].T) for i in range(nt)], -1, 1)\n",
    "\n",
    "# plt.semilogy(errs)\n",
    "plt.legend()\n",
    "plt.show()"
   ]
  },
  {
   "cell_type": "code",
   "execution_count": 12,
   "metadata": {},
   "outputs": [
    {
     "data": {
      "text/plain": [
       "array([2.107e-08, 0.000e+00, 2.107e-08, 0.000e+00, 0.000e+00, 2.107e-08,\n",
       "       1.490e-08, 2.107e-08, 1.490e-08, 0.000e+00, 0.000e+00, 0.000e+00,\n",
       "       1.490e-08, 0.000e+00, 0.000e+00, 0.000e+00, 0.000e+00, 1.490e-08,\n",
       "       0.000e+00, 0.000e+00, 0.000e+00, 0.000e+00, 2.107e-08, 1.490e-08,\n",
       "       0.000e+00, 0.000e+00, 0.000e+00, 0.000e+00, 0.000e+00, 2.581e-08,\n",
       "       0.000e+00, 2.107e-08, 0.000e+00, 0.000e+00, 2.581e-08, 2.107e-08,\n",
       "       2.107e-08, 2.107e-08, 2.107e-08, 1.490e-08, 2.107e-08, 0.000e+00,\n",
       "       0.000e+00, 0.000e+00, 0.000e+00, 2.107e-08, 0.000e+00, 0.000e+00,\n",
       "       0.000e+00, 0.000e+00, 1.490e-08, 0.000e+00, 0.000e+00, 0.000e+00,\n",
       "       1.490e-08, 0.000e+00, 0.000e+00, 0.000e+00, 0.000e+00, 1.490e-08,\n",
       "       2.107e-08, 0.000e+00, 0.000e+00, 2.107e-08, 0.000e+00])"
      ]
     },
     "execution_count": 12,
     "metadata": {},
     "output_type": "execute_result"
    }
   ],
   "source": [
    "j = 1\n",
    "np.arccos(np.clip([np.dot(vs[i, j], v[i, j].T) for i in range(nt)], -1, 1))"
   ]
  },
  {
   "cell_type": "code",
   "execution_count": 13,
   "metadata": {},
   "outputs": [
    {
     "data": {
      "text/plain": [
       "array([[-2.,  1.,  0.,  0.,  0.,  0.,  0.,  0.,  0.,  0.,  0.,  0.,  0.,\n",
       "         0.,  0.,  1.],\n",
       "       [ 1., -2.,  1.,  0.,  0.,  0.,  0.,  0.,  0.,  0.,  0.,  0.,  0.,\n",
       "         0.,  0.,  0.],\n",
       "       [ 0.,  1., -2.,  1.,  0.,  0.,  0.,  0.,  0.,  0.,  0.,  0.,  0.,\n",
       "         0.,  0.,  0.],\n",
       "       [ 0.,  0.,  1., -2.,  1.,  0.,  0.,  0.,  0.,  0.,  0.,  0.,  0.,\n",
       "         0.,  0.,  0.],\n",
       "       [ 0.,  0.,  0.,  1., -2.,  1.,  0.,  0.,  0.,  0.,  0.,  0.,  0.,\n",
       "         0.,  0.,  0.],\n",
       "       [ 0.,  0.,  0.,  0.,  1., -2.,  1.,  0.,  0.,  0.,  0.,  0.,  0.,\n",
       "         0.,  0.,  0.],\n",
       "       [ 0.,  0.,  0.,  0.,  0.,  1., -2.,  1.,  0.,  0.,  0.,  0.,  0.,\n",
       "         0.,  0.,  0.],\n",
       "       [ 0.,  0.,  0.,  0.,  0.,  0.,  1., -2.,  1.,  0.,  0.,  0.,  0.,\n",
       "         0.,  0.,  0.],\n",
       "       [ 0.,  0.,  0.,  0.,  0.,  0.,  0.,  1., -2.,  1.,  0.,  0.,  0.,\n",
       "         0.,  0.,  0.],\n",
       "       [ 0.,  0.,  0.,  0.,  0.,  0.,  0.,  0.,  1., -2.,  1.,  0.,  0.,\n",
       "         0.,  0.,  0.],\n",
       "       [ 0.,  0.,  0.,  0.,  0.,  0.,  0.,  0.,  0.,  1., -2.,  1.,  0.,\n",
       "         0.,  0.,  0.],\n",
       "       [ 0.,  0.,  0.,  0.,  0.,  0.,  0.,  0.,  0.,  0.,  1., -2.,  1.,\n",
       "         0.,  0.,  0.],\n",
       "       [ 0.,  0.,  0.,  0.,  0.,  0.,  0.,  0.,  0.,  0.,  0.,  1., -2.,\n",
       "         1.,  0.,  0.],\n",
       "       [ 0.,  0.,  0.,  0.,  0.,  0.,  0.,  0.,  0.,  0.,  0.,  0.,  1.,\n",
       "        -2.,  1.,  0.],\n",
       "       [ 0.,  0.,  0.,  0.,  0.,  0.,  0.,  0.,  0.,  0.,  0.,  0.,  0.,\n",
       "         1., -2.,  1.],\n",
       "       [ 1.,  0.,  0.,  0.,  0.,  0.,  0.,  0.,  0.,  0.,  0.,  0.,  0.,\n",
       "         0.,  1., -2.]])"
      ]
     },
     "execution_count": 13,
     "metadata": {},
     "output_type": "execute_result"
    }
   ],
   "source": [
    "n = 16\n",
    "D = -2*np.eye(n) + np.diag(np.ones(n-1), -1) + np.diag(np.ones(n-1), 1)\n",
    "D[0, -1] = 1\n",
    "D[-1, 0] = 1\n",
    "D"
   ]
  },
  {
   "cell_type": "code",
   "execution_count": 14,
   "metadata": {},
   "outputs": [],
   "source": [
    "W, V = np.linalg.eigh(D)\n",
    "W = W[::-1]\n",
    "V = V[:,::-1].T"
   ]
  },
  {
   "cell_type": "code",
   "execution_count": 15,
   "metadata": {},
   "outputs": [
    {
     "data": {
      "text/plain": [
       "array([ 1.665e-16, -1.522e-01, -1.522e-01, -5.858e-01, -5.858e-01,\n",
       "       -1.235e+00, -1.235e+00, -2.000e+00, -2.000e+00, -2.765e+00,\n",
       "       -2.765e+00, -3.414e+00, -3.414e+00, -3.848e+00, -3.848e+00,\n",
       "       -4.000e+00])"
      ]
     },
     "execution_count": 15,
     "metadata": {},
     "output_type": "execute_result"
    }
   ],
   "source": [
    "W"
   ]
  },
  {
   "cell_type": "code",
   "execution_count": 16,
   "metadata": {},
   "outputs": [
    {
     "data": {
      "application/vnd.jupyter.widget-view+json": {
       "model_id": "e45f12c15ab740bca02625342204d8a3",
       "version_major": 2,
       "version_minor": 0
      },
      "text/plain": [
       "Canvas(toolbar=Toolbar(toolitems=[('Home', 'Reset original view', 'home', 'home'), ('Back', 'Back to previous …"
      ]
     },
     "metadata": {},
     "output_type": "display_data"
    }
   ],
   "source": [
    "eyes = [0, 1, 2, 3]\n",
    "plt.figure()\n",
    "for i in eyes:\n",
    "    plt.plot(V[i]/np.max(V[i]), label=f\"{i}\")\n",
    "plt.ylim([-1.1, 1.1])\n",
    "plt.legend()\n",
    "plt.show()"
   ]
  },
  {
   "cell_type": "code",
   "execution_count": 17,
   "metadata": {},
   "outputs": [
    {
     "data": {
      "text/plain": [
       "array([-2.500e-01, -1.169e-02,  3.534e-01, -2.650e-04,  3.536e-01,\n",
       "        3.536e-01, -1.055e-03,  3.535e-01, -2.809e-03, -1.308e-03,\n",
       "        3.536e-01, -2.402e-01,  2.595e-01, -3.536e-01,  2.533e-04,\n",
       "       -2.500e-01])"
      ]
     },
     "execution_count": 17,
     "metadata": {},
     "output_type": "execute_result"
    }
   ],
   "source": [
    "V[:, 0]"
   ]
  },
  {
   "cell_type": "code",
   "execution_count": null,
   "metadata": {},
   "outputs": [],
   "source": []
  }
 ],
 "metadata": {
  "kernelspec": {
   "display_name": "Python 3.8.12 ('base')",
   "language": "python",
   "name": "python3"
  },
  "language_info": {
   "codemirror_mode": {
    "name": "ipython",
    "version": 3
   },
   "file_extension": ".py",
   "mimetype": "text/x-python",
   "name": "python",
   "nbconvert_exporter": "python",
   "pygments_lexer": "ipython3",
   "version": "3.8.12"
  },
  "orig_nbformat": 4,
  "vscode": {
   "interpreter": {
    "hash": "78023e3ee39dddfa09f3558785ec645a59ef19d13999b9dc8129f73544abf36d"
   }
  }
 },
 "nbformat": 4,
 "nbformat_minor": 2
}
