{
 "cells": [
  {
   "cell_type": "code",
   "execution_count": 127,
   "metadata": {},
   "outputs": [],
   "source": [
    "%matplotlib widget\n",
    "import matplotlib.pyplot as plt\n",
    "import ipywidgets as widgets\n",
    "import numpy as np\n",
    "from numpy.linalg import norm\n",
    "from vis_lorenz_LRDelta import read_csv"
   ]
  },
  {
   "cell_type": "code",
   "execution_count": 128,
   "metadata": {},
   "outputs": [],
   "source": [
    "def flip_vecs(vecs):\n",
    "    for i in range(1, vecs.shape[0]):\n",
    "        for j in range(vecs.shape[1]):\n",
    "            flip = norm(vecs[i, j] + vecs[i-1, j]\n",
    "                        ) < norm(vecs[i, j] - vecs[i-1, j])\n",
    "            if flip:\n",
    "                vecs[i, j] *= -1\n",
    "    return vecs"
   ]
  },
  {
   "cell_type": "code",
   "execution_count": 129,
   "metadata": {},
   "outputs": [],
   "source": [
    "us = read_csv(\"drive-ks-seq.out\")\n",
    "vs = read_csv(\"drive-ks-lv-seq.out\")\n",
    "u = read_csv(\"drive-ks.out\")\n",
    "v = read_csv(\"drive-ks-lv.out\")\n",
    "\n",
    "nt, nx = u.shape\n",
    "rank = v.shape[1] // nx\n",
    "# v = flip_vecs(v.reshape(nt, rank, nx))\n",
    "# vs = flip_vecs(vs.reshape(nt, rank, nx))\n",
    "v = v.reshape(nt, rank, nx)\n",
    "vs = vs.reshape(nt, rank, nx)"
   ]
  },
  {
   "cell_type": "code",
   "execution_count": 130,
   "metadata": {},
   "outputs": [
    {
     "data": {
      "text/plain": [
       "(513, 16, 64)"
      ]
     },
     "execution_count": 130,
     "metadata": {},
     "output_type": "execute_result"
    }
   ],
   "source": [
    "vs.shape"
   ]
  },
  {
   "cell_type": "code",
   "execution_count": 131,
   "metadata": {},
   "outputs": [
    {
     "data": {
      "application/vnd.jupyter.widget-view+json": {
       "model_id": "fb58dbec5a56462a8d536a89a7b32ba9",
       "version_major": 2,
       "version_minor": 0
      },
      "text/plain": [
       "Canvas(toolbar=Toolbar(toolitems=[('Home', 'Reset original view', 'home', 'home'), ('Back', 'Back to previous …"
      ]
     },
     "metadata": {},
     "output_type": "display_data"
    }
   ],
   "source": [
    "stride = 2\n",
    "fig, (ax1, ax2) = plt.subplots(2, 1, figsize=(5,5))\n",
    "ax1.imshow(u[::stride].T, cmap=\"plasma\", aspect=\"auto\")\n",
    "ax2.imshow(us[::stride].T, cmap=\"plasma\", aspect=\"auto\")\n",
    "ax1.grid(False)\n",
    "ax2.grid(False)\n",
    "plt.show()"
   ]
  },
  {
   "cell_type": "code",
   "execution_count": 132,
   "metadata": {},
   "outputs": [
    {
     "data": {
      "application/vnd.jupyter.widget-view+json": {
       "model_id": "f3f6f01a6e2c42e2afe1cf29b1c03625",
       "version_major": 2,
       "version_minor": 0
      },
      "text/plain": [
       "Canvas(toolbar=Toolbar(toolitems=[('Home', 'Reset original view', 'home', 'home'), ('Back', 'Back to previous …"
      ]
     },
     "metadata": {},
     "output_type": "display_data"
    }
   ],
   "source": [
    "plt.figure()\n",
    "plt.semilogy(np.linalg.norm(u - us, axis=1))\n",
    "plt.show()"
   ]
  },
  {
   "cell_type": "code",
   "execution_count": 133,
   "metadata": {},
   "outputs": [
    {
     "data": {
      "application/vnd.jupyter.widget-view+json": {
       "model_id": "bcc2b62dee11460cb81b1b062b57f5c7",
       "version_major": 2,
       "version_minor": 0
      },
      "text/plain": [
       "Canvas(toolbar=Toolbar(toolitems=[('Home', 'Reset original view', 'home', 'home'), ('Back', 'Back to previous …"
      ]
     },
     "metadata": {},
     "output_type": "display_data"
    },
    {
     "data": {
      "application/vnd.jupyter.widget-view+json": {
       "model_id": "1106db9a00b540ef9b4866042d96ab5d",
       "version_major": 2,
       "version_minor": 0
      },
      "text/plain": [
       "interactive(children=(IntSlider(value=0, description='ind', max=15), Output()), _dom_classes=('widget-interact…"
      ]
     },
     "metadata": {},
     "output_type": "display_data"
    }
   ],
   "source": [
    "extent = (0, 8, 0, 64)\n",
    "x, t = np.linspace(0, 64, num=nx), np.linspace(0, 8, num=nt//stride)\n",
    "X, T = np.meshgrid(x, t)\n",
    "\n",
    "fig, axs = plt.subplots(3, 1)\n",
    "(ax1, ax2, ax3) = axs\n",
    "fig.tight_layout()\n",
    "# ax1.imshow(u[::stride], cmap=\"viridis\", extent=extent, aspect=\"auto\")\n",
    "# ax2.s(us[::stride], cmap=\"viridis\", extent=extent, aspect=\"auto\")\n",
    "\n",
    "@widgets.interact(ind=(0, rank-1, 1))\n",
    "def update(ind=0):\n",
    "    [ax.cla() for ax in axs]\n",
    "    ax1.imshow(vs[::stride, ind, :].T, cmap=\"plasma\", aspect=\"auto\", extent=extent)\n",
    "    ax2.imshow(v[::stride, ind, :].T, cmap=\"plasma\", aspect=\"auto\", extent=extent)\n",
    "    err = [norm(1 - np.abs(np.dot(v[i, ind], vs[i, ind].T))) for i in range(nt-1)]\n",
    "    # err = [norm(v[i, ind] - vs[i, ind])/norm(vs[i, ind]) for i in range(nt-1)]\n",
    "    ax3.semilogy(t, err[::stride])\n",
    "    ax3.set_ylim((1e-16, 1e1))\n",
    "    ax3.set_xlim((0, 8))\n",
    "    ax1.grid(False)\n",
    "    ax2.grid(False)\n",
    "    # ax1.contour(X, T, vs[:-(1+nt%2):stride, ind])\n",
    "    # ax2.contour(X, T, v[:-(1+nt%2):stride, ind])\n"
   ]
  },
  {
   "cell_type": "code",
   "execution_count": 134,
   "metadata": {},
   "outputs": [
    {
     "data": {
      "application/vnd.jupyter.widget-view+json": {
       "model_id": "00f79e2a6b0d4e08bbfaa9272a11e4b4",
       "version_major": 2,
       "version_minor": 0
      },
      "text/plain": [
       "Canvas(toolbar=Toolbar(toolitems=[('Home', 'Reset original view', 'home', 'home'), ('Back', 'Back to previous …"
      ]
     },
     "metadata": {},
     "output_type": "display_data"
    }
   ],
   "source": [
    "inds = range(12)\n",
    "orth = [norm(np.eye(rank) - v[i, ...] @ v[i, ...].T) for i in range(nt-1)]\n",
    "err = [norm(np.eye(inds[-1]+1) - np.dot(v[i, inds], vs[i, inds].T)) for i in range(nt-1)]\n",
    "\n",
    "plt.figure()\n",
    "plt.semilogy(err)\n",
    "plt.show()"
   ]
  },
  {
   "cell_type": "code",
   "execution_count": 135,
   "metadata": {},
   "outputs": [
    {
     "data": {
      "application/vnd.jupyter.widget-view+json": {
       "model_id": "b6896a0e21e94847b4b4b3ab91ef5691",
       "version_major": 2,
       "version_minor": 0
      },
      "text/plain": [
       "Canvas(toolbar=Toolbar(toolitems=[('Home', 'Reset original view', 'home', 'home'), ('Back', 'Back to previous …"
      ]
     },
     "metadata": {},
     "output_type": "display_data"
    }
   ],
   "source": [
    "def modarcos(arg):\n",
    "    return np.arccos(np.pi*(arg % np.pi))\n",
    "plt.figure()\n",
    "errs = np.zeros(rank)\n",
    "for j in range(0, rank, 8):\n",
    "    plt.semilogy(np.abs([1 - np.dot(vs[i, j], v[i, j].T) for i in range(nt)]), label=f\"{j}\")\n",
    "    # errs[j] = np.arccos(np.clip([np.dot(vs[i, j], v[i, j].T) for i in range(nt)], -1, 1)\n",
    "\n",
    "# plt.semilogy(errs)\n",
    "plt.legend()\n",
    "plt.show()"
   ]
  },
  {
   "cell_type": "code",
   "execution_count": 136,
   "metadata": {},
   "outputs": [
    {
     "data": {
      "text/plain": [
       "array([2.107e-08, 2.107e-08, 1.490e-08, 0.000e+00, 0.000e+00, 0.000e+00,\n",
       "       0.000e+00, 0.000e+00, 1.490e-08, 1.490e-08, 2.980e-08, 1.490e-08,\n",
       "       0.000e+00, 1.490e-08, 1.490e-08, 0.000e+00, 0.000e+00, 0.000e+00,\n",
       "       0.000e+00, 1.490e-08, 0.000e+00, 0.000e+00, 0.000e+00, 1.490e-08,\n",
       "       0.000e+00, 0.000e+00, 2.107e-08, 0.000e+00, 2.107e-08, 1.490e-08,\n",
       "       0.000e+00, 0.000e+00, 0.000e+00, 0.000e+00, 1.490e-08, 0.000e+00,\n",
       "       0.000e+00, 0.000e+00, 0.000e+00, 0.000e+00, 0.000e+00, 1.490e-08,\n",
       "       0.000e+00, 0.000e+00, 0.000e+00, 0.000e+00, 2.107e-08, 0.000e+00,\n",
       "       0.000e+00, 1.490e-08, 0.000e+00, 0.000e+00, 2.581e-08, 0.000e+00,\n",
       "       0.000e+00, 0.000e+00, 2.107e-08, 1.490e-08, 0.000e+00, 0.000e+00,\n",
       "       0.000e+00, 0.000e+00, 2.980e-08, 2.581e-08, 1.490e-08, 2.107e-08,\n",
       "       2.107e-08, 0.000e+00, 0.000e+00, 0.000e+00, 2.107e-08, 2.107e-08,\n",
       "       0.000e+00, 0.000e+00, 2.107e-08, 0.000e+00, 1.490e-08, 0.000e+00,\n",
       "       0.000e+00, 2.107e-08, 1.490e-08, 1.490e-08, 2.581e-08, 0.000e+00,\n",
       "       0.000e+00, 0.000e+00, 0.000e+00, 0.000e+00, 0.000e+00, 0.000e+00,\n",
       "       1.490e-08, 1.490e-08, 0.000e+00, 1.490e-08, 0.000e+00, 1.490e-08,\n",
       "       1.490e-08, 0.000e+00, 0.000e+00, 0.000e+00, 0.000e+00, 0.000e+00,\n",
       "       0.000e+00, 0.000e+00, 1.490e-08, 0.000e+00, 0.000e+00, 0.000e+00,\n",
       "       0.000e+00, 0.000e+00, 2.980e-08, 0.000e+00, 2.107e-08, 0.000e+00,\n",
       "       0.000e+00, 1.490e-08, 1.490e-08, 0.000e+00, 2.980e-08, 0.000e+00,\n",
       "       0.000e+00, 0.000e+00, 2.107e-08, 2.107e-08, 2.107e-08, 3.650e-08,\n",
       "       5.960e-08, 5.771e-08, 2.107e-08, 2.980e-08, 2.107e-08, 1.490e-08,\n",
       "       2.581e-08, 1.490e-08, 1.490e-08, 2.581e-08, 2.107e-08, 2.107e-08,\n",
       "       2.107e-08, 2.980e-08, 2.107e-08, 2.980e-08, 2.107e-08, 2.107e-08,\n",
       "       2.581e-08, 2.107e-08, 0.000e+00, 2.581e-08, 2.980e-08, 2.581e-08,\n",
       "       3.650e-08, 3.332e-08, 2.107e-08, 2.980e-08, 3.650e-08, 2.980e-08,\n",
       "       2.980e-08, 2.980e-08, 3.650e-08, 2.107e-08, 2.581e-08, 2.107e-08,\n",
       "       1.490e-08, 2.980e-08, 2.107e-08, 2.107e-08, 2.107e-08, 2.107e-08,\n",
       "       0.000e+00, 2.581e-08, 1.490e-08, 2.980e-08, 1.490e-08, 2.107e-08,\n",
       "       2.980e-08, 2.107e-08, 2.980e-08, 2.107e-08, 2.980e-08, 2.980e-08,\n",
       "       2.581e-08, 2.107e-08, 2.107e-08, 2.980e-08, 2.980e-08, 3.650e-08,\n",
       "       3.332e-08, 3.332e-08, 3.650e-08, 2.107e-08, 2.107e-08, 2.581e-08,\n",
       "       2.107e-08, 0.000e+00, 2.107e-08, 2.581e-08, 2.107e-08, 0.000e+00,\n",
       "       2.107e-08, 0.000e+00, 0.000e+00, 0.000e+00, 2.107e-08, 0.000e+00,\n",
       "       1.490e-08, 0.000e+00, 2.107e-08, 1.490e-08, 2.107e-08, 0.000e+00,\n",
       "       2.581e-08, 1.490e-08, 0.000e+00, 1.490e-08, 1.490e-08, 2.107e-08,\n",
       "       2.107e-08, 2.107e-08, 2.980e-08, 2.107e-08, 0.000e+00, 0.000e+00,\n",
       "       1.490e-08, 2.107e-08, 2.107e-08, 2.107e-08, 1.490e-08, 2.107e-08,\n",
       "       1.490e-08, 2.107e-08, 1.490e-08, 2.107e-08, 2.107e-08, 0.000e+00,\n",
       "       2.107e-08, 0.000e+00, 1.490e-08, 2.581e-08, 2.581e-08, 2.107e-08,\n",
       "       2.107e-08, 1.490e-08, 2.107e-08, 2.980e-08, 2.107e-08, 2.581e-08,\n",
       "       2.980e-08, 3.650e-08, 2.980e-08, 3.942e-08, 3.942e-08, 4.215e-08,\n",
       "       5.162e-08, 4.942e-08, 5.771e-08, 5.960e-08, 6.144e-08, 6.664e-08,\n",
       "       6.495e-08, 6.495e-08, 6.322e-08, 6.322e-08, 5.373e-08, 5.576e-08,\n",
       "       5.576e-08, 5.162e-08, 5.576e-08, 5.576e-08, 4.712e-08, 4.942e-08,\n",
       "       3.650e-08, 4.215e-08, 3.942e-08, 3.332e-08, 3.942e-08, 2.980e-08,\n",
       "       2.980e-08, 3.942e-08, 2.107e-08, 2.980e-08, 3.942e-08, 2.980e-08,\n",
       "       2.581e-08, 3.650e-08, 2.980e-08, 2.581e-08, 3.332e-08, 3.650e-08,\n",
       "       3.332e-08, 3.650e-08, 3.650e-08, 3.332e-08, 2.581e-08, 4.215e-08,\n",
       "       2.980e-08, 4.215e-08, 4.215e-08, 4.215e-08, 4.712e-08, 4.470e-08,\n",
       "       4.712e-08, 4.942e-08, 5.162e-08, 5.960e-08, 6.322e-08, 6.322e-08,\n",
       "       6.664e-08, 7.598e-08, 7.598e-08, 7.743e-08, 8.560e-08, 8.689e-08,\n",
       "       8.941e-08, 9.186e-08, 9.424e-08, 9.884e-08, 1.022e-07, 1.032e-07,\n",
       "       1.054e-07, 1.043e-07, 1.032e-07, 1.011e-07, 9.884e-08, 9.657e-08,\n",
       "       9.424e-08, 8.429e-08, 8.560e-08, 7.598e-08, 7.598e-08, 6.829e-08,\n",
       "       6.322e-08, 6.664e-08, 5.373e-08, 5.576e-08, 5.162e-08, 5.162e-08,\n",
       "       5.162e-08, 4.942e-08, 4.942e-08, 5.162e-08, 5.576e-08, 5.576e-08,\n",
       "       5.771e-08, 5.771e-08, 5.960e-08, 5.771e-08, 6.144e-08, 6.144e-08,\n",
       "       5.576e-08, 5.960e-08, 5.373e-08, 5.373e-08, 5.162e-08, 5.162e-08,\n",
       "       5.162e-08, 4.712e-08, 4.712e-08, 3.942e-08, 4.470e-08, 3.650e-08,\n",
       "       3.650e-08, 3.650e-08, 4.712e-08, 4.215e-08, 5.162e-08, 5.771e-08,\n",
       "       6.322e-08, 6.829e-08, 7.598e-08, 8.689e-08, 9.306e-08, 9.657e-08,\n",
       "       1.032e-07, 1.043e-07, 1.075e-07, 1.075e-07, 1.105e-07, 1.115e-07,\n",
       "       1.135e-07, 1.135e-07, 1.154e-07, 1.135e-07, 1.145e-07, 1.154e-07,\n",
       "       1.154e-07, 1.173e-07, 1.173e-07, 1.183e-07, 1.192e-07, 1.173e-07,\n",
       "       1.183e-07, 1.192e-07, 1.220e-07, 1.211e-07, 1.273e-07, 1.316e-07,\n",
       "       1.358e-07, 1.398e-07, 1.437e-07, 1.498e-07, 1.570e-07, 1.619e-07,\n",
       "       1.673e-07, 1.712e-07, 1.782e-07, 1.831e-07, 1.885e-07, 1.931e-07,\n",
       "       1.988e-07, 2.038e-07, 2.091e-07, 2.154e-07, 2.215e-07, 2.304e-07,\n",
       "       2.393e-07, 2.476e-07, 2.594e-07, 2.731e-07, 2.870e-07, 3.043e-07,\n",
       "       3.230e-07, 3.447e-07, 3.671e-07, 3.917e-07, 4.146e-07, 4.365e-07,\n",
       "       4.512e-07, 4.544e-07, 4.329e-07, 4.070e-07, 3.737e-07, 3.427e-07,\n",
       "       3.168e-07, 2.988e-07, 2.859e-07, 2.792e-07, 2.764e-07, 2.772e-07,\n",
       "       2.792e-07, 2.827e-07, 2.878e-07, 2.928e-07, 3.003e-07, 3.061e-07,\n",
       "       3.133e-07, 3.189e-07, 3.258e-07, 3.325e-07, 3.385e-07, 3.431e-07,\n",
       "       3.488e-07, 3.520e-07, 3.551e-07, 3.573e-07, 3.592e-07, 3.598e-07,\n",
       "       3.595e-07, 3.586e-07, 3.570e-07, 3.551e-07, 3.526e-07, 3.495e-07,\n",
       "       3.472e-07, 3.431e-07, 3.405e-07, 3.362e-07, 3.319e-07, 3.285e-07,\n",
       "       3.237e-07, 3.199e-07, 3.150e-07, 3.097e-07, 3.043e-07, 2.980e-07,\n",
       "       2.909e-07, 2.835e-07, 2.756e-07, 2.682e-07, 2.607e-07, 2.511e-07,\n",
       "       2.430e-07, 2.347e-07, 2.279e-07, 2.215e-07, 2.144e-07, 2.128e-07,\n",
       "       2.075e-07, 2.038e-07, 1.994e-07, 1.988e-07, 2.005e-07, 2.091e-07,\n",
       "       2.250e-07, 2.485e-07, 2.780e-07, 3.119e-07, 3.447e-07, 3.752e-07,\n",
       "       3.894e-07, 3.784e-07, 3.536e-07, 3.332e-07, 3.154e-07, 2.991e-07,\n",
       "       2.874e-07, 2.804e-07, 2.752e-07, 2.707e-07, 2.678e-07, 2.636e-07,\n",
       "       2.602e-07, 2.568e-07, 2.520e-07])"
      ]
     },
     "execution_count": 136,
     "metadata": {},
     "output_type": "execute_result"
    }
   ],
   "source": [
    "j = 1\n",
    "np.arccos(np.clip([np.dot(vs[i, j], v[i, j].T) for i in range(nt)], -1, 1))"
   ]
  },
  {
   "cell_type": "code",
   "execution_count": 137,
   "metadata": {},
   "outputs": [
    {
     "data": {
      "text/plain": [
       "array([[-2.,  1.,  0.,  0.,  0.,  0.,  0.,  0.,  0.,  0.,  0.,  0.,  0.,\n",
       "         0.,  0.,  1.],\n",
       "       [ 1., -2.,  1.,  0.,  0.,  0.,  0.,  0.,  0.,  0.,  0.,  0.,  0.,\n",
       "         0.,  0.,  0.],\n",
       "       [ 0.,  1., -2.,  1.,  0.,  0.,  0.,  0.,  0.,  0.,  0.,  0.,  0.,\n",
       "         0.,  0.,  0.],\n",
       "       [ 0.,  0.,  1., -2.,  1.,  0.,  0.,  0.,  0.,  0.,  0.,  0.,  0.,\n",
       "         0.,  0.,  0.],\n",
       "       [ 0.,  0.,  0.,  1., -2.,  1.,  0.,  0.,  0.,  0.,  0.,  0.,  0.,\n",
       "         0.,  0.,  0.],\n",
       "       [ 0.,  0.,  0.,  0.,  1., -2.,  1.,  0.,  0.,  0.,  0.,  0.,  0.,\n",
       "         0.,  0.,  0.],\n",
       "       [ 0.,  0.,  0.,  0.,  0.,  1., -2.,  1.,  0.,  0.,  0.,  0.,  0.,\n",
       "         0.,  0.,  0.],\n",
       "       [ 0.,  0.,  0.,  0.,  0.,  0.,  1., -2.,  1.,  0.,  0.,  0.,  0.,\n",
       "         0.,  0.,  0.],\n",
       "       [ 0.,  0.,  0.,  0.,  0.,  0.,  0.,  1., -2.,  1.,  0.,  0.,  0.,\n",
       "         0.,  0.,  0.],\n",
       "       [ 0.,  0.,  0.,  0.,  0.,  0.,  0.,  0.,  1., -2.,  1.,  0.,  0.,\n",
       "         0.,  0.,  0.],\n",
       "       [ 0.,  0.,  0.,  0.,  0.,  0.,  0.,  0.,  0.,  1., -2.,  1.,  0.,\n",
       "         0.,  0.,  0.],\n",
       "       [ 0.,  0.,  0.,  0.,  0.,  0.,  0.,  0.,  0.,  0.,  1., -2.,  1.,\n",
       "         0.,  0.,  0.],\n",
       "       [ 0.,  0.,  0.,  0.,  0.,  0.,  0.,  0.,  0.,  0.,  0.,  1., -2.,\n",
       "         1.,  0.,  0.],\n",
       "       [ 0.,  0.,  0.,  0.,  0.,  0.,  0.,  0.,  0.,  0.,  0.,  0.,  1.,\n",
       "        -2.,  1.,  0.],\n",
       "       [ 0.,  0.,  0.,  0.,  0.,  0.,  0.,  0.,  0.,  0.,  0.,  0.,  0.,\n",
       "         1., -2.,  1.],\n",
       "       [ 1.,  0.,  0.,  0.,  0.,  0.,  0.,  0.,  0.,  0.,  0.,  0.,  0.,\n",
       "         0.,  1., -2.]])"
      ]
     },
     "execution_count": 137,
     "metadata": {},
     "output_type": "execute_result"
    }
   ],
   "source": [
    "n = 16\n",
    "D = -2*np.eye(n) + np.diag(np.ones(n-1), -1) + np.diag(np.ones(n-1), 1)\n",
    "D[0, -1] = 1\n",
    "D[-1, 0] = 1\n",
    "D"
   ]
  },
  {
   "cell_type": "code",
   "execution_count": 138,
   "metadata": {},
   "outputs": [],
   "source": [
    "W, V = np.linalg.eigh(D)\n",
    "W = W[::-1]\n",
    "V = V[:,::-1].T"
   ]
  },
  {
   "cell_type": "code",
   "execution_count": 139,
   "metadata": {},
   "outputs": [
    {
     "data": {
      "text/plain": [
       "array([ 1.665e-16, -1.522e-01, -1.522e-01, -5.858e-01, -5.858e-01,\n",
       "       -1.235e+00, -1.235e+00, -2.000e+00, -2.000e+00, -2.765e+00,\n",
       "       -2.765e+00, -3.414e+00, -3.414e+00, -3.848e+00, -3.848e+00,\n",
       "       -4.000e+00])"
      ]
     },
     "execution_count": 139,
     "metadata": {},
     "output_type": "execute_result"
    }
   ],
   "source": [
    "W"
   ]
  },
  {
   "cell_type": "code",
   "execution_count": 140,
   "metadata": {},
   "outputs": [
    {
     "data": {
      "application/vnd.jupyter.widget-view+json": {
       "model_id": "18d513708b7b470fbd0097137bf55b17",
       "version_major": 2,
       "version_minor": 0
      },
      "text/plain": [
       "Canvas(toolbar=Toolbar(toolitems=[('Home', 'Reset original view', 'home', 'home'), ('Back', 'Back to previous …"
      ]
     },
     "metadata": {},
     "output_type": "display_data"
    }
   ],
   "source": [
    "eyes = [0, 1, 2, 3]\n",
    "plt.figure()\n",
    "for i in eyes:\n",
    "    plt.plot(V[i]/np.max(V[i]), label=f\"{i}\")\n",
    "plt.ylim([-1.1, 1.1])\n",
    "plt.legend()\n",
    "plt.show()"
   ]
  },
  {
   "cell_type": "code",
   "execution_count": 141,
   "metadata": {},
   "outputs": [
    {
     "data": {
      "text/plain": [
       "array([-2.500e-01, -1.169e-02,  3.534e-01, -2.650e-04,  3.536e-01,\n",
       "        3.536e-01, -1.055e-03,  3.535e-01, -2.809e-03, -1.308e-03,\n",
       "        3.536e-01, -2.402e-01,  2.595e-01, -3.536e-01,  2.533e-04,\n",
       "       -2.500e-01])"
      ]
     },
     "execution_count": 141,
     "metadata": {},
     "output_type": "execute_result"
    }
   ],
   "source": [
    "V[:, 0]"
   ]
  },
  {
   "cell_type": "code",
   "execution_count": null,
   "metadata": {},
   "outputs": [],
   "source": []
  }
 ],
 "metadata": {
  "kernelspec": {
   "display_name": "Python 3.8.12 ('base')",
   "language": "python",
   "name": "python3"
  },
  "language_info": {
   "codemirror_mode": {
    "name": "ipython",
    "version": 3
   },
   "file_extension": ".py",
   "mimetype": "text/x-python",
   "name": "python",
   "nbconvert_exporter": "python",
   "pygments_lexer": "ipython3",
   "version": "3.8.12"
  },
  "orig_nbformat": 4,
  "vscode": {
   "interpreter": {
    "hash": "78023e3ee39dddfa09f3558785ec645a59ef19d13999b9dc8129f73544abf36d"
   }
  }
 },
 "nbformat": 4,
 "nbformat_minor": 2
}
