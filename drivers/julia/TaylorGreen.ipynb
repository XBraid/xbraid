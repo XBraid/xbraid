{
 "cells": [
  {
   "cell_type": "code",
   "execution_count": 5,
   "metadata": {},
   "outputs": [
    {
     "ename": "LoadError",
     "evalue": "SystemError: opening file \"/home/cadaverous/Projects/lss-braid/xbraid/drivers/julia/XBraid.jl\": No such file or directory",
     "output_type": "error",
     "traceback": [
      "SystemError: opening file \"/home/cadaverous/Projects/lss-braid/xbraid/drivers/julia/XBraid.jl\": No such file or directory",
      "",
      "Stacktrace:",
      "  [1] systemerror(p::String, errno::Int32; extrainfo::Nothing)",
      "    @ Base ./error.jl:176",
      "  [2] #systemerror#80",
      "    @ ./error.jl:175 [inlined]",
      "  [3] systemerror",
      "    @ ./error.jl:175 [inlined]",
      "  [4] open(fname::String; lock::Bool, read::Nothing, write::Nothing, create::Nothing, truncate::Nothing, append::Nothing)",
      "    @ Base ./iostream.jl:293",
      "  [5] open",
      "    @ ./iostream.jl:275 [inlined]",
      "  [6] open(f::Base.var\"#387#388\"{String}, args::String; kwargs::Base.Pairs{Symbol, Union{}, Tuple{}, NamedTuple{(), Tuple{}}})",
      "    @ Base ./io.jl:382",
      "  [7] open",
      "    @ ./io.jl:381 [inlined]",
      "  [8] read",
      "    @ ./io.jl:462 [inlined]",
      "  [9] _include(mapexpr::Function, mod::Module, _path::String)",
      "    @ Base ./loading.jl:1484",
      " [10] include(fname::String)",
      "    @ Base.MainInclude ./client.jl:476",
      " [11] top-level scope",
      "    @ In[5]:4"
     ]
    }
   ],
   "source": [
    "using BenchmarkTools, Plots\n",
    "using LinearAlgebra, SparseArrays, PreallocationTools, ForwardDiff\n",
    "include(\"Taylor-Green-lib.jl\");"
   ]
  },
  {
   "cell_type": "code",
   "execution_count": 2,
   "metadata": {},
   "outputs": [
    {
     "ename": "LoadError",
     "evalue": "UndefVarError: my_poisson_mat not defined",
     "output_type": "error",
     "traceback": [
      "UndefVarError: my_poisson_mat not defined",
      "",
      "Stacktrace:",
      " [1] top-level scope",
      "   @ In[2]:16"
     ]
    }
   ],
   "source": [
    "Float = Float64\n",
    "nₓ = 32\n",
    "nₜ = 1024\n",
    "Δx = 2π / nₓ\n",
    "# Δt = 0.02\n",
    "Δt = Δx/2\n",
    "\n",
    "x_bound = 2π - Δx\n",
    "x_range = range(0, x_bound, nₓ)\n",
    "\n",
    "# preallocations\n",
    "u_arr = zeros(Float, 3 * nₓ^3)\n",
    "u_new_arr = zeros(Float, 3 * nₓ^3)\n",
    "coords_arr = zeros(Float, 3 * nₓ^3)\n",
    "coords_new_arr = zeros(Float, 3 * nₓ^3)\n",
    "Δ = my_poisson_mat(nₓ)\n",
    "\n",
    "# set initial condition\n",
    "u = get_views(u_arr)\n",
    "coords = get_views(coords_arr)\n",
    "coords[1] .= [x for z ∈ x_range, y ∈ x_range, x ∈ x_range]\n",
    "coords[2] .= [y for z ∈ x_range, y ∈ x_range, x ∈ x_range]\n",
    "coords[3] .= [z for z ∈ x_range, y ∈ x_range, x ∈ x_range];\n",
    "\n",
    "TaylorGreen!(u)\n",
    "\n",
    "app = TGApp(\n",
    "    DiffCache(u_new_arr),\n",
    "    DiffCache(coords_new_arr),\n",
    "    Δ\n",
    ");"
   ]
  },
  {
   "cell_type": "code",
   "execution_count": null,
   "metadata": {},
   "outputs": [],
   "source": []
  }
 ],
 "metadata": {
  "kernelspec": {
   "display_name": "Julia 1.8.5",
   "language": "julia",
   "name": "julia-1.8"
  },
  "language_info": {
   "file_extension": ".jl",
   "mimetype": "application/julia",
   "name": "julia",
   "version": "1.8.5"
  },
  "orig_nbformat": 4,
  "vscode": {
   "interpreter": {
    "hash": "31f2aee4e71d21fbe5cf8b01ff0e069b9275f58929596ceb00d14d90e3e16cd6"
   }
  }
 },
 "nbformat": 4,
 "nbformat_minor": 2
}
