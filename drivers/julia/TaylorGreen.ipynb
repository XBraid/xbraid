{
 "cells": [
  {
   "cell_type": "code",
   "execution_count": 7,
   "metadata": {},
   "outputs": [],
   "source": [
    "using Preferences, BenchmarkTools, Plots\n",
    "using LinearAlgebra, SparseArrays, PreallocationTools, ForwardDiff\n",
    "include(\"Taylor-Green-lib.jl\");"
   ]
  },
  {
   "cell_type": "code",
   "execution_count": 8,
   "metadata": {},
   "outputs": [],
   "source": [
    "Float = Float64\n",
    "nₓ = 16\n",
    "nₜ = 1024\n",
    "Δx = 2π / nₓ\n",
    "# Δt = 0.02\n",
    "Δt = Δx/2\n",
    "\n",
    "x_bound = 2π - Δx\n",
    "x_range = range(0, x_bound, nₓ)\n",
    "\n",
    "# preallocations\n",
    "u_arr = zeros(Float, 3 * nₓ^3)\n",
    "u_new_arr = zeros(Float, 3 * nₓ^3)\n",
    "coords_arr = zeros(Float, 3 * nₓ^3)\n",
    "coords_new_arr = zeros(Float, 3 * nₓ^3)\n",
    "Δ = my_poisson_mat(nₓ)\n",
    "\n",
    "# set initial condition\n",
    "u = get_views(u_arr)\n",
    "coords = get_views(coords_arr)\n",
    "coords[1] .= [x for z ∈ x_range, y ∈ x_range, x ∈ x_range]\n",
    "coords[2] .= [y for z ∈ x_range, y ∈ x_range, x ∈ x_range]\n",
    "coords[3] .= [z for z ∈ x_range, y ∈ x_range, x ∈ x_range];\n",
    "\n",
    "TaylorGreen!(u)\n",
    "\n",
    "app = TGApp(\n",
    "    DiffCache(u_new_arr),\n",
    "    DiffCache(coords_new_arr),\n",
    "    Δ\n",
    ");"
   ]
  },
  {
   "cell_type": "code",
   "execution_count": null,
   "metadata": {},
   "outputs": [],
   "source": []
  }
 ],
 "metadata": {
  "kernelspec": {
   "display_name": "Julia 1.8.5",
   "language": "julia",
   "name": "julia-1.8"
  },
  "language_info": {
   "file_extension": ".jl",
   "mimetype": "application/julia",
   "name": "julia",
   "version": "1.8.5"
  },
  "orig_nbformat": 4,
  "vscode": {
   "interpreter": {
    "hash": "31f2aee4e71d21fbe5cf8b01ff0e069b9275f58929596ceb00d14d90e3e16cd6"
   }
  }
 },
 "nbformat": 4,
 "nbformat_minor": 2
}
