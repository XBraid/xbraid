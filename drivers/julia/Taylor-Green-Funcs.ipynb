{
 "cells": [
  {
   "cell_type": "code",
   "execution_count": 1,
   "metadata": {},
   "outputs": [
    {
     "data": {
      "text/plain": [
       "4×4×4 reshape(view(::Vector{Float64}, 129:192), 4, 4, 4) with eltype Float64:\n",
       "[:, :, 1] =\n",
       " 0.0  0.0  0.0  0.0\n",
       " 0.0  0.0  0.0  0.0\n",
       " 0.0  0.0  0.0  0.0\n",
       " 0.0  0.0  0.0  0.0\n",
       "\n",
       "[:, :, 2] =\n",
       " 1.67552  1.67552  1.67552  1.67552\n",
       " 1.67552  1.67552  1.67552  1.67552\n",
       " 1.67552  1.67552  1.67552  1.67552\n",
       " 1.67552  1.67552  1.67552  1.67552\n",
       "\n",
       "[:, :, 3] =\n",
       " 3.35103  3.35103  3.35103  3.35103\n",
       " 3.35103  3.35103  3.35103  3.35103\n",
       " 3.35103  3.35103  3.35103  3.35103\n",
       " 3.35103  3.35103  3.35103  3.35103\n",
       "\n",
       "[:, :, 4] =\n",
       " 5.02655  5.02655  5.02655  5.02655\n",
       " 5.02655  5.02655  5.02655  5.02655\n",
       " 5.02655  5.02655  5.02655  5.02655\n",
       " 5.02655  5.02655  5.02655  5.02655"
      ]
     },
     "metadata": {},
     "output_type": "display_data"
    }
   ],
   "source": [
    "using ForwardDiff, PreallocationTools, Interpolations, LinearAlgebra\n",
    "using BenchmarkTools\n",
    "\n",
    "nₓ = 4\n",
    "nₜ = 1024\n",
    "Δt = 0.01\n",
    "\n",
    "x_bound = 2 * π * nₓ / (nₓ + 1)\n",
    "x_range = range(0, x_bound, nₓ)\n",
    "\n",
    "# preallocations\n",
    "coords_arr = zeros(3 * nₓ^3)\n",
    "coords_new_arr = zeros(3 * nₓ^3)\n",
    "u_arr = zeros(3 * nₓ^3)\n",
    "u_new_arr = zeros(3 * nₓ^3)\n",
    "pressure = zeros(nₓ, nₓ, nₓ)\n",
    "\n",
    "# These cache memory for the automatic differentiation\n",
    "# and store references to the original allocation\n",
    "coords_arr_d = DiffCache(coords_arr)\n",
    "coords_new_arr_d = DiffCache(coords_new_arr)\n",
    "u_arr_d = DiffCache(u_arr)\n",
    "u_new_arr_d = DiffCache(u_new_arr)\n",
    "pressure_d = DiffCache(pressure)\n",
    "\n",
    "# reshapes 1D array into vector of 3D arrays, with no allocation\n",
    "function get_views(u)\n",
    "    @views begin\n",
    "        u_x = reshape(u[1:nₓ^3], (nₓ, nₓ, nₓ))\n",
    "        u_y = reshape(u[nₓ^3+1:2*nₓ^3], (nₓ, nₓ, nₓ))\n",
    "        u_z = reshape(u[2*nₓ^3+1:end], (nₓ, nₓ, nₓ))\n",
    "    end\n",
    "    return [u_x, u_y, u_z]\n",
    "end\n",
    "\n",
    "coords = get_views(coords_arr)\n",
    "u = get_views(u_arr)\n",
    "\n",
    "# wouldn't normally do it this way, but we need these later for advection\n",
    "coords[1] .= [x for x ∈ x_range, y ∈ x_range, z ∈ x_range]\n",
    "coords[2] .= [y for x ∈ x_range, y ∈ x_range, z ∈ x_range]\n",
    "coords[3] .= [z for x ∈ x_range, y ∈ x_range, z ∈ x_range]\n",
    "\n",
    "# figure out how to cache these\n",
    "# interpolators = map(u) do x\n",
    "#     interpolate((x_range, x_range, x_range), x, Gridded(Linear()))\n",
    "# end;\n",
    "# interpolators_d = DiffCache(interpolators)"
   ]
  },
  {
   "cell_type": "code",
   "execution_count": 2,
   "metadata": {},
   "outputs": [],
   "source": [
    "function TaylorGreen!(u, coords)\n",
    "    u_x, u_y, u_z = u\n",
    "    x, y, z = coords\n",
    "    @. u_x =  sin(x) * cos(y) * cos(z)\n",
    "    @. u_y = -cos(x) * sin(y) * cos(z)\n",
    "    @. u_z = 0.\n",
    "    return\n",
    "end\n",
    "TaylorGreen!(u, coords)"
   ]
  },
  {
   "cell_type": "code",
   "execution_count": 11,
   "metadata": {},
   "outputs": [
    {
     "data": {
      "text/plain": [
       "∂ (generic function with 1 method)"
      ]
     },
     "metadata": {},
     "output_type": "display_data"
    }
   ],
   "source": [
    "function Base.mod1(I::CartesianIndex, J::CartesianIndex)\n",
    "    tup = broadcast(mod1, Tuple(I), Tuple(J))\n",
    "    return CartesianIndex(tup)\n",
    "end\n",
    "\n",
    "function δ(I::CartesianIndex{N}, dim) where N\n",
    "    return CartesianIndex(ntuple(i -> i == dim ? 1 : 0, N))\n",
    "end\n",
    "\n",
    "function ∂(A, dim)\n",
    "    out = similar(A)\n",
    "    R = CartesianIndices(A)\n",
    "    bound = last(R)\n",
    "    for I ∈ R\n",
    "        I⁻ = mod1(I - δ(I, dim), bound)\n",
    "        out[I] = A[I] - A[I⁻]\n",
    "    end\n",
    "    return out\n",
    "end"
   ]
  },
  {
   "cell_type": "code",
   "execution_count": 12,
   "metadata": {},
   "outputs": [
    {
     "data": {
      "text/plain": [
       "CartesianIndex(1, 0, 0)"
      ]
     },
     "metadata": {},
     "output_type": "display_data"
    }
   ],
   "source": [
    "I = CartesianIndex(1, 1, 1)\n",
    "J = CartesianIndex(4, 4, 4)\n",
    "δ(I, 1)"
   ]
  },
  {
   "cell_type": "code",
   "execution_count": 13,
   "metadata": {},
   "outputs": [
    {
     "ename": "MethodError",
     "evalue": "MethodError: no method matching mod1(::Int64, ::Int64)\nYou may have intended to import Base.mod1",
     "output_type": "error",
     "traceback": [
      "MethodError: no method matching mod1(::Int64, ::Int64)\n",
      "You may have intended to import Base.mod1\n",
      "\n",
      "Stacktrace:\n",
      " [1] map\n",
      "   @ ./tuple.jl:250 [inlined]\n",
      " [2] broadcast\n",
      "   @ ./broadcast.jl:802 [inlined]\n",
      " [3] mod1(I::CartesianIndex{3}, J::CartesianIndex{3})\n",
      "   @ Main ~/Projects/lss-braid/xbraid/drivers/julia/Taylor-Green-Funcs.ipynb:2\n",
      " [4] top-level scope\n",
      "   @ ~/Projects/lss-braid/xbraid/drivers/julia/Taylor-Green-Funcs.ipynb:1"
     ]
    }
   ],
   "source": [
    "mod1(I - δ(I, 1), J)"
   ]
  },
  {
   "cell_type": "code",
   "execution_count": 3,
   "metadata": {},
   "outputs": [
    {
     "data": {
      "text/plain": [
       "project_incompressible (generic function with 1 method)"
      ]
     },
     "metadata": {},
     "output_type": "display_data"
    }
   ],
   "source": [
    "function advect_semi_lagrangian!(u_arr, coords_cache, coords_new_cache, Δt)\n",
    "    # get cached arrays (either real or dual, depending on typeof(u))\n",
    "    u = get_views(u_arr)\n",
    "    coords = get_tmp(coords_cache, u_arr)\n",
    "    coords_new = get_tmp(coords_new_cache, u_arr)\n",
    "\n",
    "    # compute self advection of u\n",
    "    # initialize interpolators\n",
    "    interpolators = map(u) do x\n",
    "        interpolate((x_range, x_range, x_range), x, Gridded(Linear()))\n",
    "    end\n",
    "    \n",
    "    # (1) trace each grid point backwards along u\n",
    "    # mod1 takes care of PBC\n",
    "    @. coords_new = mod1(coords - Δt * u_arr, x_bound)\n",
    "\n",
    "    # (2) interpolate the velocity field at the new grid points\n",
    "    for i in 1:3\n",
    "        u[i] .= interpolators[i].(get_views(coords_new)...)\n",
    "    end\n",
    "    return u_arr\n",
    "end\n",
    "\n",
    "\n",
    "\n",
    "function project_incompressible(u_arr)\n",
    "\n",
    "end"
   ]
  },
  {
   "cell_type": "code",
   "execution_count": 4,
   "metadata": {},
   "outputs": [],
   "source": [
    "u_new_arr .= u_arr\n",
    "advect_semi_lagrangian!(u_new_arr, coords_arr_d, coords_new_arr_d, Δt);"
   ]
  },
  {
   "cell_type": "code",
   "execution_count": 12,
   "metadata": {},
   "outputs": [
    {
     "data": {
      "text/plain": [
       "192-element Vector{Float64}:\n",
       " -0.36327126400268\n",
       " -0.36327126400268\n",
       " -0.36327126400268\n",
       " -0.36327126400268\n",
       " -0.36327126400268\n",
       " -0.36327126400268\n",
       " -0.36327126400268\n",
       " -0.36327126400268\n",
       " -0.36327126400268\n",
       " -0.36327126400268\n",
       "  ⋮\n",
       "  0.0\n",
       "  0.0\n",
       "  0.0\n",
       "  0.0\n",
       "  0.0\n",
       "  0.0\n",
       "  0.0\n",
       "  0.0\n",
       "  0.0"
      ]
     },
     "metadata": {},
     "output_type": "display_data"
    }
   ],
   "source": [
    "ForwardDiff.derivative(0.) do r\n",
    "    u_new = get_tmp(u_new_arr_d, r)\n",
    "    @. u_new += r * u_arr\n",
    "    advect_semi_lagrangian!(u_new, coords_arr_d, coords_new_arr_d, Δt);\n",
    "    return u_new\n",
    "end"
   ]
  },
  {
   "cell_type": "code",
   "execution_count": 47,
   "metadata": {},
   "outputs": [
    {
     "data": {
      "text/plain": [
       "20×20 Matrix{Float64}:\n",
       "  1.0          -3.86843e-16   4.97866e-16  …   8.95117e-16   1.5439e-16\n",
       " -4.44089e-16   1.0          -1.49186e-16      2.53964e-15  -9.64506e-16\n",
       " -9.54098e-16  -1.94289e-15   1.0             -1.49186e-16   2.08167e-16\n",
       " -5.82867e-16  -3.29597e-15   2.22045e-16      2.05391e-15  -9.29812e-16\n",
       " -1.81799e-15  -1.6237e-15   -2.04003e-15      2.86576e-15  -9.64506e-16\n",
       " -1.40166e-15  -4.06619e-15   7.42462e-16  …   1.65146e-15  -8.04912e-16\n",
       " -2.55351e-15  -2.56739e-15  -2.81719e-15      3.20577e-15  -1.83187e-15\n",
       " -1.16573e-15  -5.59275e-15   1.0              8.46545e-16  -9.71445e-16\n",
       " -2.9976e-15    1.0          -1.0             -1.0          -2.16493e-15\n",
       "  1.0          -1.0           1.0              1.0          -1.0\n",
       " -1.0           1.0          -1.0          …  -1.0           1.0\n",
       " -2.88658e-15  -1.0           1.0              1.0          -2.69229e-15\n",
       " -1.13798e-15  -2.34535e-15  -1.0             -1.73472e-15  -1.65146e-15\n",
       " -2.8727e-15   -1.16573e-15  -1.56819e-15      7.21645e-16  -1.59595e-15\n",
       " -1.1241e-15   -1.67921e-15  -2.20657e-15     -1.17267e-15  -1.45717e-15\n",
       " -1.90126e-15  -2.63678e-16  -1.44329e-15  …   8.88178e-16  -1.84575e-15\n",
       " -1.40166e-15  -9.50628e-16  -2.01922e-15     -1.70003e-15  -7.70217e-16\n",
       " -3.57353e-16  -1.27676e-15   5.82867e-16     -5.89806e-16  -1.00267e-15\n",
       " -1.22125e-15   3.88578e-16  -2.02963e-15      1.0          -2.63678e-16\n",
       " -5.55112e-17   2.98372e-16   7.16441e-16      5.81132e-16   1.0"
      ]
     },
     "metadata": {},
     "output_type": "display_data"
    }
   ],
   "source": [
    "using AlgebraicMultigrid, IterativeSolvers\n",
    "A = poisson(20)\n",
    "A_cache = DiffCache(A)\n",
    "\n",
    "ForwardDiff.jacobian(ones(20)) do x\n",
    "    A_tmp = poisson(eltype(x), 20)\n",
    "    # A_tmp = get_tmp(A_cache, x)\n",
    "    # A_tmp .= A\n",
    "    # ml = ruge_stuben(A_tmp)\n",
    "    # AlgebraicMultigrid._solve(ml, A_tmp * x)\n",
    "    # A_tmp \\ (A_tmp * x)\n",
    "    cg(A_tmp, A_tmp*x) # This actually works!\n",
    "end"
   ]
  },
  {
   "cell_type": "code",
   "execution_count": 36,
   "metadata": {},
   "outputs": [
    {
     "data": {
      "text/plain": [
       "20×20 SparseArrays.SparseMatrixCSC{Float64, Int64} with 58 stored entries:\n",
       "⠻⣦⡀⠀⠀⠀⠀⠀⠀⠀\n",
       "⠀⠈⠻⣦⡀⠀⠀⠀⠀⠀\n",
       "⠀⠀⠀⠈⠻⣦⡀⠀⠀⠀\n",
       "⠀⠀⠀⠀⠀⠈⠻⣦⡀⠀\n",
       "⠀⠀⠀⠀⠀⠀⠀⠈⠻⣦"
      ]
     },
     "metadata": {},
     "output_type": "display_data"
    }
   ],
   "source": [
    "A_tmp = get_tmp(A_cache, b)\n",
    "A_tmp"
   ]
  },
  {
   "cell_type": "code",
   "execution_count": 23,
   "metadata": {},
   "outputs": [
    {
     "data": {
      "text/plain": [
       "Multilevel Solver\n",
       "-----------------\n",
       "Operator Complexity: 2.85\n",
       "Grid Complexity: 1.599\n",
       "No. of Levels: 8\n",
       "Coarse Solver: Pinv\n",
       "Level     Unknowns     NonZeros\n",
       "-----     --------     --------\n",
       "    1       262144      1810432 [35.08%]\n",
       "    2       131072      2417024 [46.84%]\n",
       "    3        21846       707192 [13.70%]\n",
       "    4         3452       180336 [ 3.49%]\n",
       "    5          552        41176 [ 0.80%]\n",
       "    6           85         3639 [ 0.07%]\n",
       "    7           22          410 [ 0.01%]\n",
       "    8            4           16 [ 0.00%]\n"
      ]
     },
     "metadata": {},
     "output_type": "display_data"
    }
   ],
   "source": [
    "A = poisson((64, 64, 64))\n",
    "ml = ruge_stuben(A)"
   ]
  },
  {
   "cell_type": "code",
   "execution_count": 25,
   "metadata": {},
   "outputs": [
    {
     "name": "stdout",
     "output_type": "stream",
     "text": [
      "  451.326 ms (7 allocations: 6.00 MiB)\n"
     ]
    },
    {
     "data": {
      "text/plain": [
       "262144-element Vector{Float64}:\n",
       " 0.9579370369836959\n",
       " 0.9220864723841471\n",
       " 0.30769954747797706\n",
       " 0.5657528159560252\n",
       " 0.31869202403633273\n",
       " 0.539504350895625\n",
       " 0.8880858300730617\n",
       " 0.4214488315304273\n",
       " 0.5920146117601618\n",
       " 0.9602698112006594\n",
       " ⋮\n",
       " 0.24411683865740885\n",
       " 0.20114826591216542\n",
       " 0.8021828787599561\n",
       " 0.6690684420946841\n",
       " 0.7978287476774337\n",
       " 0.1563696728009579\n",
       " 0.5638502001080586\n",
       " 0.36417366397539835\n",
       " 0.1414664369750985"
      ]
     },
     "metadata": {},
     "output_type": "display_data"
    }
   ],
   "source": [
    "Ψ = rand(size(A)[2])\n",
    "@btime AlgebraicMultigrid._solve(ml, A*Ψ[:, 1])"
   ]
  },
  {
   "cell_type": "code",
   "execution_count": 26,
   "metadata": {},
   "outputs": [
    {
     "name": "stdout",
     "output_type": "stream",
     "text": [
      "  17.886 s (66 allocations: 2.33 GiB)\n"
     ]
    },
    {
     "data": {
      "text/plain": [
       "262144-element Vector{Float64}:\n",
       " 0.4434492842503988\n",
       " 0.6115094100818169\n",
       " 0.6413961058450095\n",
       " 0.7414367776470157\n",
       " 0.7505245741236859\n",
       " 0.8618739986773928\n",
       " 0.9468796901642866\n",
       " 0.9179074449583097\n",
       " 0.984684582842769\n",
       " 1.0577693704899116\n",
       " ⋮\n",
       " 0.8432674179392343\n",
       " 0.8582314608252583\n",
       " 0.9448904247144354\n",
       " 0.9039341333244569\n",
       " 0.8740572405777549\n",
       " 0.7111551877028455\n",
       " 0.6851050130238521\n",
       " 0.5136171628767003\n",
       " 0.2708594867616451"
      ]
     },
     "metadata": {},
     "output_type": "display_data"
    }
   ],
   "source": [
    "@btime A \\ Ψ"
   ]
  },
  {
   "cell_type": "code",
   "execution_count": null,
   "metadata": {},
   "outputs": [],
   "source": []
  }
 ],
 "metadata": {
  "kernelspec": {
   "display_name": "Julia 1.8.5",
   "language": "julia",
   "name": "julia-1.8"
  },
  "language_info": {
   "file_extension": ".jl",
   "mimetype": "application/julia",
   "name": "julia",
   "version": "1.8.5"
  },
  "orig_nbformat": 4,
  "vscode": {
   "interpreter": {
    "hash": "31f2aee4e71d21fbe5cf8b01ff0e069b9275f58929596ceb00d14d90e3e16cd6"
   }
  }
 },
 "nbformat": 4,
 "nbformat_minor": 2
}
