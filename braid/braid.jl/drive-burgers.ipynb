{
 "cells": [
  {
   "cell_type": "code",
   "execution_count": 1,
   "metadata": {},
   "outputs": [
    {
     "data": {
      "text/plain": [
       "MPI.Comm(Ptr{Nothing} @0x00007fd9d4d74c20)"
      ]
     },
     "metadata": {},
     "output_type": "display_data"
    }
   ],
   "source": [
    "using Preferences, BenchmarkTools, Plots\n",
    "using LinearAlgebra, PreallocationTools, ForwardDiff, DiffResults\n",
    "using MPI\n",
    "include(\"XBraid.jl\")\n",
    "using .XBraid\n",
    "\n",
    "MPI.Init()\n",
    "comm = MPI.COMM_WORLD"
   ]
  },
  {
   "cell_type": "code",
   "execution_count": 14,
   "metadata": {},
   "outputs": [],
   "source": [
    "# system parameters (globally scoped)\n",
    "const nₓ = 16\n",
    "const Δx = 2π / nₓ\n",
    "const Δt = 0.1\n",
    "const basis_rank = 2\n",
    "x = Array(range(0.0, 2π - Δx, nₓ))\n",
    "\n",
    "# preallocations (performance critical, passed as arguments)\n",
    "x_new = zeros(nₓ)\n",
    "y_new = zeros(nₓ)\n",
    "\n",
    "struct burger_app\n",
    "    x\n",
    "    # preallocated caches that support ForwardDiff:\n",
    "    x_d::DiffCache\n",
    "    y_d::DiffCache\n",
    "end\n",
    "\n",
    "burger = burger_app(\n",
    "    x,\n",
    "    DiffCache(x_new),\n",
    "    DiffCache(y_new)\n",
    ");"
   ]
  },
  {
   "cell_type": "code",
   "execution_count": 15,
   "metadata": {},
   "outputs": [
    {
     "data": {
      "text/plain": [
       "my_innerprod (generic function with 1 method)"
      ]
     },
     "metadata": {},
     "output_type": "display_data"
    }
   ],
   "source": [
    "function interp_periodic(coord, f)\n",
    "    bound = nₓ\n",
    "    scaled = coord / Δx\n",
    "    i = trunc(scaled)\n",
    "    r = scaled - i\n",
    "    i = mod1(Int(i + 1), bound)\n",
    "    (1 - r) * f[i] + r * f[mod1(i + 1, bound)]\n",
    "end\n",
    "\n",
    "function semi_lagrangian(burger::burger_app, y, Δt)\n",
    "    x_back = get_tmp(burger.x_d, y)\n",
    "    y_intp = get_tmp(burger.y_d, y)\n",
    "\n",
    "    x_back .= x .- Δt * y\n",
    "    y_intp .= interp_periodic.(x_back, Ref(y))\n",
    "    y .= y_intp\n",
    "    return y\n",
    "end\n",
    "\n",
    "function my_init(burger, t)\n",
    "    u = similar(x)\n",
    "    @. u = sin(x)\n",
    "    return u\n",
    "end\n",
    "\n",
    "function my_basis_init(burger, t, k)\n",
    "    ψ = similar(burger.x)\n",
    "    if k % 2 == 0\n",
    "        @. ψ = cos(k/2*x)\n",
    "    else\n",
    "        @. ψ = sin((k+1)/2*x)\n",
    "    end\n",
    "    return ψ\n",
    "end\n",
    "\n",
    "function my_step!(burger, u, ustop, tstart, tstop)\n",
    "    Δt = tstop - tstart\n",
    "    u = semi_lagrangian(app, u, Δt)\n",
    "    return\n",
    "end\n",
    "\n",
    "function my_step!(burger, u, ustop, tstart, tstop, Ψ)\n",
    "    Δt = tstop - tstart\n",
    "    Ψ_new = reduce(hcat, Ψ)\n",
    "    perturb(r) = semi_lagrangian(burger, u + r'*Ψ, Δt)\n",
    "\n",
    "    result = DiffResults.DiffResult(u, Ψ_new)\n",
    "    result = ForwardDiff.jacobian!(result, perturb, zeros(basis_rank))\n",
    "    for i in size(Ψ)\n",
    "        Ψ[i] .= Ψ_new[:, i]\n",
    "    end\n",
    "end\n",
    "\n",
    "function my_sum!(burger, a, x, b, y)\n",
    "    @. y = a*x + b*y\n",
    "end\n",
    "\n",
    "function my_access(burger, u)\n",
    "    println(sum(abs, u))\n",
    "    # plot!(u)\n",
    "end\n",
    "\n",
    "my_norm(burger, u) = LinearAlgebra.norm2(u)\n",
    "my_innerprod(burger, u, v) = u'*v"
   ]
  },
  {
   "cell_type": "code",
   "execution_count": 10,
   "metadata": {},
   "outputs": [],
   "source": [
    "# test user routines:\n",
    "test_app = XBraid.BraidApp(\n",
    "    burger, comm, comm, \n",
    "    my_step!, my_init,\n",
    "    my_sum!, my_norm, my_access,\n",
    "    my_basis_init, my_innerprod);"
   ]
  },
  {
   "cell_type": "code",
   "execution_count": 11,
   "metadata": {},
   "outputs": [
    {
     "name": "stdout",
     "output_type": "stream",
     "text": [
      "\n",
      "Starting braid_TestInitAccess\n",
      "\n",
      "   braid_TestInitAccess:   Starting Test 1\n",
      "   braid_TestInitAccess:   u = init(t=0.00e+00)\n",
      "   braid_TestInitAccess:   access(u) \n",
      "10.054678984251698\n",
      "   braid_TestInitAccess:   check output: wrote u for initial condition at t=0.00e+00. \n",
      "\n",
      "   braid_TestInitAccess:   free(u) \n",
      "Finished braid_TestInitAccess\n",
      "Serialized size of user vector: 173\n",
      "Check output for objects not properly freed:\n",
      "IdDict{Any, Any}()\n"
     ]
    }
   ],
   "source": [
    "XBraid.testInitAccess(test_app, 0.)"
   ]
  },
  {
   "cell_type": "code",
   "execution_count": 12,
   "metadata": {},
   "outputs": [
    {
     "name": "stdout",
     "output_type": "stream",
     "text": [
      "\n",
      "Starting braid_TestSpatialNorm\n",
      "\n",
      "   braid_TestSpatialNorm:   Starting Test 1\n",
      "   braid_TestSpatialNorm:   u = init(t=0.00e+00)\n",
      "   braid_TestSpatialNorm:   spatialnorm(u) \n",
      "   braid_TestSpatialNorm:   v = clone(u)\n",
      "   braid_TestSpatialNorm:   v = u - v \n",
      "   braid_TestSpatialNorm:   spatialnorm(v) \n",
      "   braid_TestSpatialNorm:   Test 1 Passed\n",
      "   braid_TestSpatialNorm:   actual output:    spatialnorm(v) = 0.00e+00  \n",
      "   braid_TestSpatialNorm:   expected output:  spatialnorm(v) = 0.0 \n",
      "\n",
      "   braid_TestSpatialNorm:   Starting Test 2\n",
      "   braid_TestSpatialNorm:   w = clone(u)\n",
      "   braid_TestSpatialNorm:   w = u + w \n",
      "   braid_TestSpatialNorm:   spatialnorm(u)\n",
      "   braid_TestSpatialNorm:   spatialnorm(w)\n",
      "   braid_TestSpatialNorm:   Test 2 Passed\n",
      "   braid_TestSpatialNorm:   actual output:    spatialnorm(w) / spatialnorm(u) = 5.66e+00 / 2.83e+00 = 2.00e+00 \n",
      "   braid_TestSpatialNorm:   expected output:  spatialnorm(w) / spatialnorm(u) = 2.0 \n",
      "\n",
      "   braid_TestSpatialNorm:   Starting Test 3\n",
      "   braid_TestSpatialNorm:   free(w)\n",
      "   braid_TestSpatialNorm:   w = clone(u)\n",
      "   braid_TestSpatialNorm:   w = 0.0*u + 0.5*w \n",
      "   braid_TestSpatialNorm:   spatialnorm(u)\n",
      "   braid_TestSpatialNorm:   spatialnorm(w)\n",
      "   braid_TestSpatialNorm:   Test 3 Passed\n",
      "   braid_TestSpatialNorm:   actual output:    spatialnorm(w) / spatialnorm(u) = 1.41e+00 / 2.83e+00 = 5.00e-01 \n",
      "   braid_TestSpatialNorm:   expected output:  spatialnorm(w) / spatialnorm(u) = 0.5 \n",
      "\n",
      "   braid_TestSpatialNorm:   free(u)\n",
      "   braid_TestSpatialNorm:   free(v)\n",
      "   braid_TestSpatialNorm:   free(w)\n",
      "Finished braid_TestSpatialNorm: all tests passed successfully\n"
     ]
    },
    {
     "data": {
      "text/plain": [
       "1"
      ]
     },
     "metadata": {},
     "output_type": "display_data"
    }
   ],
   "source": [
    "XBraid.testSpatialNorm(test_app, 0.)"
   ]
  },
  {
   "cell_type": "code",
   "execution_count": 13,
   "metadata": {},
   "outputs": [
    {
     "name": "stdout",
     "output_type": "stream",
     "text": [
      "\n",
      "Starting braid_TestDelta\n",
      "\n",
      "\n",
      "Starting braid_TestInnerProd\n",
      "\n",
      "   braid_TestInnerProd:   Starting Test 1\n",
      "   braid_TestInnerProd:   u = init_basis(t=0.00e+00, i=0)\n",
      "   braid_TestInnerProd:   inner_prod(u, u)\n",
      "   braid_TestInnerProd:   u = u / sqrt(inner_prod(u, u))\n",
      "   braid_TestInnerProd:   inner_prod(u, u)\n",
      "   braid_TestInnerProd:   Test 1 Passed\n",
      "   braid_TestInnerProd:   actual output:    inner_prod(u, u) = 1.00e+00  \n",
      "   braid_TestInnerProd:   expected output:  inner_prod(u, u) = 1.0 \n",
      "\n",
      "   braid_TestInnerProd:   Starting Test 2\n",
      "   braid_TestInnerProd:   v = init(t=0.00e+00, i=1)\n",
      "   braid_TestInnerProd:   inner_prod(u, v)\n",
      "   braid_TestInnerProd:   v = v - inner_prod(u, v)*u\n",
      "   braid_TestInnerProd:   inner_prod(u, v)\n",
      "   braid_TestInnerProd:   Test 2 Passed\n",
      "   braid_TestInnerProd:   actual output:    inner_prod(u, v) = 1.11e-16  \n",
      "   braid_TestInnerProd:   expected output:  inner_prod(u, v) = 0. \n",
      "\n",
      "   braid_TestInnerProd:   free(u)\n",
      "   braid_TestInnerProd:   free(v)\n",
      "\n",
      "Starting braid_TestInitBasis\n",
      "\n",
      "   braid_TestInitBasis:   Starting Test 1\n",
      "   braid_TestInitBasis:   u = init(t=0.00e+00)\n",
      "   braid_TestInitBasis:   B = init_basis(t=0.00e+00)\n",
      "   braid_TestInitBasis:   access(u, B) \n",
      "10.054678984251698\n",
      "   braid_TestInitBasis:   check output: wrote u, B for initial condition at t=0.00e+00. \n",
      "\n",
      "   braid_TestInitBasis:   Starting Test 2\n",
      "   braid_TestInitBasis:   GramSchmidt(B) \n",
      "   braid_TestInitBasis:   access(u, B) \n",
      "10.054678984251698\n",
      "   braid_TestInitBasis:   Test 2 Passed\n",
      "Finished braid_TestInitBasisAccess\n",
      "\n",
      "Starting braid_TestStepDiff\n",
      "\n",
      "   braid_TestStepDiff:   Starting Test 1\n",
      "   braid_TestStepDiff:   A = clone(B) \n",
      "   braid_TestStepDiff:   v = clone(u) \n",
      "   braid_TestStepDiff:   v = step(v)\n",
      "   braid_TestStepDiff:   B = step_dv(v)*B\n",
      "Any[[0.25, 0.25, 0.25, 0.25, 0.25, 0.25, 0.25, 0.25, 0.25, 0.25, 0.25, 0.25, 0.25, 0.25, 0.25, 0.25], [-1.9626155733547187e-17, 0.1352990250365492, 0.24999999999999994, 0.3266407412190941, 0.35355339059327373, 0.3266407412190941, 0.24999999999999994, 0.13529902503654925, 1.8068089294660497e-16, -0.13529902503654906, -0.2499999999999999, -0.32664074121909403, -0.35355339059327373, -0.3266407412190942, -0.25000000000000006, -0.13529902503654948]]"
     ]
    },
    {
     "ename": "MethodError",
     "evalue": "MethodError: no method matching zeros(::typeof(rank))\nClosest candidates are:\n  zeros(!Matched::Tuple{Vararg{Union{Integer, AbstractUnitRange}}}) at array.jl:585\n  zeros(!Matched::Type{StaticArraysCore.MVector{N}}) where N at ~/.julia/packages/StaticArrays/pTgFe/src/MVector.jl:2\n  zeros(!Matched::Type{StaticArraysCore.SVector{N}}) where N at ~/.julia/packages/StaticArrays/pTgFe/src/SVector.jl:3\n  ...",
     "output_type": "error",
     "traceback": [
      "MethodError: no method matching zeros(::typeof(rank))\n",
      "Closest candidates are:\n",
      "  zeros(!Matched::Tuple{Vararg{Union{Integer, AbstractUnitRange}}}) at array.jl:585\n",
      "  zeros(!Matched::Type{StaticArraysCore.MVector{N}}) where N at ~/.julia/packages/StaticArrays/pTgFe/src/MVector.jl:2\n",
      "  zeros(!Matched::Type{StaticArraysCore.SVector{N}}) where N at ~/.julia/packages/StaticArrays/pTgFe/src/SVector.jl:3\n",
      "  ...\n",
      "\n",
      "Stacktrace:\n",
      " [1] my_step!(burger::burger_app, u::Vector{Float64}, ustop::Vector{Float64}, tstart::Float64, tstop::Float64, Ψ::Vector{Any})\n",
      "   @ Main ~/Projects/LSS_Braid/xbraid/braid/braid.jl/drive-burgers.ipynb:49\n",
      " [2] _jl_step!(_app::Ptr{Nothing}, _ustop::Ptr{Nothing}, _fstop::Ptr{Nothing}, _u::Ptr{Nothing}, status::Ptr{Nothing})\n",
      "   @ Main.XBraid ~/Projects/LSS_Braid/xbraid/braid/braid.jl/wrapper_functions.jl:36\n",
      " [3] testDelta(app::Main.XBraid.BraidApp, t::Float64, dt::Float64, rank::Int64)\n",
      "   @ Main.XBraid ~/Projects/LSS_Braid/xbraid/braid/braid.jl/XBraid.jl:334\n",
      " [4] top-level scope\n",
      "   @ ~/Projects/LSS_Braid/xbraid/braid/braid.jl/drive-burgers.ipynb:1"
     ]
    }
   ],
   "source": [
    "XBraid.testDelta(test_app, 0., 0.1, basis_rank)"
   ]
  },
  {
   "cell_type": "code",
   "execution_count": null,
   "metadata": {},
   "outputs": [],
   "source": []
  }
 ],
 "metadata": {
  "kernelspec": {
   "display_name": "Julia 1.8.5",
   "language": "julia",
   "name": "julia-1.8"
  },
  "language_info": {
   "file_extension": ".jl",
   "mimetype": "application/julia",
   "name": "julia",
   "version": "1.8.5"
  },
  "orig_nbformat": 4,
  "vscode": {
   "interpreter": {
    "hash": "31f2aee4e71d21fbe5cf8b01ff0e069b9275f58929596ceb00d14d90e3e16cd6"
   }
  }
 },
 "nbformat": 4,
 "nbformat_minor": 2
}
