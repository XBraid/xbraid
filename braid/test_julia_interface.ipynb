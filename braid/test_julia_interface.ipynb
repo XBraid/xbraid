{
 "cells": [
  {
   "cell_type": "code",
   "execution_count": 1,
   "metadata": {},
   "outputs": [
    {
     "data": {
      "text/plain": [
       "MPI.ThreadLevel(2)"
      ]
     },
     "metadata": {},
     "output_type": "display_data"
    }
   ],
   "source": [
    "using Serialization: serialize, deserialize\n",
    "using MPI\n",
    "MPI.Init()"
   ]
  },
  {
   "cell_type": "code",
   "execution_count": 2,
   "metadata": {},
   "outputs": [
    {
     "name": "stdout",
     "output_type": "stream",
     "text": [
      "Hello world, I am 1 of 1\n"
     ]
    }
   ],
   "source": [
    "comm = MPI.COMM_WORLD\n",
    "println(\"Hello world, I am $(MPI.Comm_rank(comm) + 1) of $(MPI.Comm_size(comm))\")\n",
    "MPI.Barrier(comm)"
   ]
  },
  {
   "cell_type": "code",
   "execution_count": 3,
   "metadata": {},
   "outputs": [
    {
     "data": {
      "text/plain": [
       "MPI.Comm"
      ]
     },
     "metadata": {},
     "output_type": "display_data"
    }
   ],
   "source": [
    "MPI.Comm"
   ]
  },
  {
   "cell_type": "code",
   "execution_count": 4,
   "metadata": {},
   "outputs": [
    {
     "name": "stdout",
     "output_type": "stream",
     "text": [
      "Hello world!\n"
     ]
    }
   ],
   "source": [
    "ccall((:braid_Hello, \"./libbraid.so\"), Cint, ());"
   ]
  },
  {
   "cell_type": "code",
   "execution_count": 5,
   "metadata": {},
   "outputs": [
    {
     "data": {
      "text/plain": [
       "braid_app(MPI.Comm(1140850688), 69, IdDict{Any, Any}())"
      ]
     },
     "metadata": {},
     "output_type": "display_data"
    }
   ],
   "source": [
    "# Data structures required by XBraid\n",
    "mutable struct braid_app\n",
    "    comm::MPI.Comm      # MPI communicator\n",
    "    bufsize::Integer    # default size of a braid_vector allocation\n",
    "    vec_refs::IdDict    # dictionary which stores global references to\n",
    "                        # braid_vectors, to keep them from being garbage\n",
    "                        # collected while they only exist as C pointers\n",
    "                        # keys are objectid hashes, and values are references\n",
    "end\n",
    "\n",
    "mutable struct braid_vector\n",
    "    data\n",
    "end\n",
    "\n",
    "vec = braid_vector(zeros(4))\n",
    "vec_ser = IOBuffer()\n",
    "serialize(vec_ser, vec)\n",
    "app = braid_app(MPI.COMM_WORLD, vec_ser.size, IdDict())"
   ]
  },
  {
   "cell_type": "code",
   "execution_count": 6,
   "metadata": {},
   "outputs": [
    {
     "data": {
      "text/plain": [
       "Ptr{Nothing} @0x00007fb0b016d920"
      ]
     },
     "metadata": {},
     "output_type": "display_data"
    }
   ],
   "source": [
    "function assign_like_c!(dest :: T, src :: T) :: T where {T}\n",
    "       fields = fieldnames(T)\n",
    "       setfield!.((dest,), fields, getfield.((src,), fields))\n",
    "       return dest\n",
    "end\n",
    "\n",
    "function my_pack!(_app, vec, buffer::Ptr{Cvoid})::Cint\n",
    "    println(\"pack\")\n",
    "    vec_ref = unsafe_pointer_to_objref(vec)\n",
    "    data_arr = unsafe_wrap(Vector{UInt8}, Base.unsafe_convert(Ptr{UInt8}, buffer), app.bufsize)\n",
    "    buff = IOBuffer(data_arr, write=true, maxsize=app.bufsize)\n",
    "    serialize(buff, vec_ref)\n",
    "    return 0\n",
    "end\n",
    "\n",
    "function my_unpack!(_app, vec, buffer::Ptr{Cvoid})::Cint\n",
    "    println(\"unpack\")\n",
    "    vec_ref = unsafe_pointer_to_objref(vec)\n",
    "    data_arr = unsafe_wrap(Vector{UInt8}, Base.unsafe_convert(Ptr{UInt8}, buffer), app.bufsize)\n",
    "    buff = IOBuffer(data_arr, read=true, maxsize=app.bufsize)\n",
    "    show(buff)\n",
    "    println(typeof(vec))\n",
    "    # unpack the buffer into a julia struct, then shallow copy the struct\n",
    "    assign_like_c!(vec_ref, deserialize(buff))\n",
    "\n",
    "    # vec = Base.unsafe_convert(Ptr{Cvoid}, Ref(vec_ref))\n",
    "    return 0\n",
    "end\n",
    "\n",
    "function my_buffsize!(_app, size::Ptr{Cint})::Cint\n",
    "    println(\"size\")\n",
    "    unsafe_store!(size, app.bufsize)\n",
    "    return 0\n",
    "end\n",
    "\n",
    "function my_init!(_app, t::Real, u_ptr::Ptr{Ptr{braid_vector}})\n",
    "    println(\"init\")\n",
    "    u = zeros(4)\n",
    "    # Since app is in the global scope, u will survive garbage collection even after it goes out of scope here\n",
    "    app.vec_refs[objectid(u)] = u # store reference to u\n",
    "    unsafe_store!(u_ptr, pointer_from_objref(new_vec))\n",
    "    return 0\n",
    "end\n",
    "\n",
    "function my_free!(_app, u::Ptr{braid_vector})\n",
    "    println(\"free\")\n",
    "    u_ref = unsafe_pointer_to_objref(u)\n",
    "    # removing the global reference to u will allow garbage collection to delete it\n",
    "    pop!(app.vec_refs, objectid(u_ref))\n",
    "    u = C_NULL\n",
    "    return 0\n",
    "end\n",
    "\n",
    "function my_sum!(_app, alpha::Real, x::Ptr{braid_vector}, beta::Real, y::Ptr{braid_vector})\n",
    "    x_ref = unsafe_pointer_to_objref(x)\n",
    "    y_ref = unsafe_pointer_to_objref(y)\n",
    "    # @. vectorizes every operation in this line, meaning this assignment is in-place!\n",
    "    @. y_ref.data = alpha*x_ref.data + beta*y_ref.data\n",
    "    return 0\n",
    "end\n",
    "\n",
    "function my_clone!(_app, u::Ptr{braid_vector}, v_ptr::Ptr{Ptr{braid_vector}})\n",
    "    u_ref = unsafe_pointer_to_objref(u)\n",
    "    v_ref = deepcopy(u_ref) # this allocates v_ref and copies u_ref\n",
    "    # need to add reference to ref_ids\n",
    "    app.vec_refs[objectid(v_ref)] = v_ref\n",
    "    unsafe_store!(v_ptr, pointer_from_objref(v_ref))\n",
    "    return 0\n",
    "end\n",
    "\n",
    "pack_c = @cfunction(my_pack!, Cint, (Ptr{Cvoid}, Ptr{Cvoid}, Ptr{Cvoid}))\n",
    "unpack_c = @cfunction(my_unpack!, Cint, (Ptr{Cvoid}, Ptr{Cvoid}, Ptr{Cvoid}))\n",
    "buffsize_c = @cfunction(my_buffsize!, Cint, (Ptr{Cvoid}, Ptr{Cint}))"
   ]
  },
  {
   "cell_type": "code",
   "execution_count": 7,
   "metadata": {},
   "outputs": [
    {
     "data": {
      "text/plain": [
       "Ptr{Ptr{braid_vector}} @0x00000000023d46b0"
      ]
     },
     "metadata": {},
     "output_type": "display_data"
    }
   ],
   "source": [
    "u = Ref([1, 2, 3, 4])\n",
    "v = [2, 2, 3, 3]\n",
    "u_ptr = Base.Libc.malloc(8)\n",
    "u_ptr = Base.unsafe_convert(Ptr{Ptr{braid_vector}}, u_ptr)"
   ]
  },
  {
   "cell_type": "code",
   "execution_count": 9,
   "metadata": {},
   "outputs": [
    {
     "data": {
      "text/plain": [
       "IdDict{Any, Any}()"
      ]
     },
     "metadata": {},
     "output_type": "display_data"
    }
   ],
   "source": [
    "ref_ids = IdDict()"
   ]
  },
  {
   "cell_type": "code",
   "execution_count": 10,
   "metadata": {},
   "outputs": [
    {
     "data": {
      "text/plain": [
       "free! (generic function with 1 method)"
      ]
     },
     "metadata": {},
     "output_type": "display_data"
    }
   ],
   "source": [
    "function init()\n",
    "    a = braid_vector([1, 2, 3])\n",
    "    # add reference to IdDict to maintain global reference,\n",
    "    # or else garbage collection may destroy this later!\n",
    "    ref_ids[objectid(a)] = a\n",
    "    return pointer_from_objref(a)\n",
    "end\n",
    "\n",
    "function free!(a_ptr)\n",
    "    a = unsafe_pointer_to_objref(a_ptr)\n",
    "    println(ref_ids[objectid(a)])\n",
    "    pop!(ref_ids, objectid(a))\n",
    "    a_ptr = C_NULL\n",
    "end"
   ]
  },
  {
   "cell_type": "code",
   "execution_count": 11,
   "metadata": {},
   "outputs": [
    {
     "name": "stdout",
     "output_type": "stream",
     "text": [
      "IdDict{Any, Any}(0x8644c409cf4b8a4b => braid_vector("
     ]
    },
    {
     "name": "stdout",
     "output_type": "stream",
     "text": [
      "[1, 2, 3]), 0xc15fe162c581f458 => braid_vector([1, 2, 3]))braid_vector"
     ]
    },
    {
     "name": "stdout",
     "output_type": "stream",
     "text": [
      "([1, 2, 3])\n",
      "braid_vector([1, 2, 3])\n"
     ]
    },
    {
     "data": {
      "text/plain": [
       "Ptr{Nothing} @0x0000000000000000"
      ]
     },
     "metadata": {},
     "output_type": "display_data"
    }
   ],
   "source": [
    "a_ptr = init()\n",
    "b_ptr = init()\n",
    "show(ref_ids)\n",
    "GC.gc()\n",
    "free!(a_ptr)\n",
    "free!(b_ptr)"
   ]
  },
  {
   "cell_type": "code",
   "execution_count": 12,
   "metadata": {},
   "outputs": [
    {
     "data": {
      "text/plain": [
       "IdDict{Any, Any}()"
      ]
     },
     "metadata": {},
     "output_type": "display_data"
    }
   ],
   "source": [
    "ref_ids"
   ]
  },
  {
   "cell_type": "code",
   "execution_count": null,
   "metadata": {},
   "outputs": [],
   "source": []
  }
 ],
 "metadata": {
  "kernelspec": {
   "display_name": "Julia 1.8.5",
   "language": "julia",
   "name": "julia-1.8"
  },
  "language_info": {
   "file_extension": ".jl",
   "mimetype": "application/julia",
   "name": "julia",
   "version": "1.8.5"
  },
  "orig_nbformat": 4,
  "vscode": {
   "interpreter": {
    "hash": "31f2aee4e71d21fbe5cf8b01ff0e069b9275f58929596ceb00d14d90e3e16cd6"
   }
  }
 },
 "nbformat": 4,
 "nbformat_minor": 2
}
