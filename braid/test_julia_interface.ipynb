{
 "cells": [
  {
   "cell_type": "code",
   "execution_count": 1,
   "metadata": {},
   "outputs": [
    {
     "data": {
      "text/plain": [
       "MPI.ThreadLevel(2)"
      ]
     },
     "metadata": {},
     "output_type": "display_data"
    }
   ],
   "source": [
    "using Serialization: serialize, deserialize\n",
    "using MPI\n",
    "MPI.Init()"
   ]
  },
  {
   "cell_type": "code",
   "execution_count": 7,
   "metadata": {},
   "outputs": [
    {
     "name": "stdout",
     "output_type": "stream",
     "text": [
      "Hello world, I am 1 of 1\n"
     ]
    }
   ],
   "source": [
    "comm = MPI.COMM_WORLD\n",
    "println(\"Hello world, I am $(MPI.Comm_rank(comm) + 1) of $(MPI.Comm_size(comm))\")\n",
    "MPI.Barrier(comm)"
   ]
  },
  {
   "cell_type": "code",
   "execution_count": 8,
   "metadata": {},
   "outputs": [
    {
     "name": "stdout",
     "output_type": "stream",
     "text": [
      "Hello world, from rank 32767!\n"
     ]
    },
    {
     "data": {
      "text/plain": [
       "0"
      ]
     },
     "metadata": {},
     "output_type": "display_data"
    }
   ],
   "source": [
    "# ccall((:braid_Hello, \"./libbraid.so\"), Cint, ());\n",
    "@ccall \"./libbraid.so\".braid_Hello(comm::Ptr{MPI.MPI_Comm})::Cint"
   ]
  },
  {
   "cell_type": "code",
   "execution_count": 9,
   "metadata": {},
   "outputs": [
    {
     "data": {
      "text/plain": [
       "15"
      ]
     },
     "metadata": {},
     "output_type": "display_data"
    }
   ],
   "source": [
    "# C_stdout = Libc.FILE(Libc.RawFD(1), \"w\")  # corresponds to C standard output\n",
    "file = open(\"./cstdout.txt\", \"w\")\n",
    "C_stdout = Libc.FILE(file)\n",
    "@ccall fprintf(C_stdout::Ptr{Cvoid}, \"Hello, stdout!\\n\"::Cstring)::Cint"
   ]
  },
  {
   "cell_type": "code",
   "execution_count": 10,
   "metadata": {},
   "outputs": [
    {
     "data": {
      "text/plain": [
       "braid_app(MPI.Comm(Ptr{Nothing} @0x00007f43c31efc20), 80, IdDict{Any, Any}())"
      ]
     },
     "metadata": {},
     "output_type": "display_data"
    }
   ],
   "source": [
    "# Data structures required by XBraid\n",
    "struct braid_app\n",
    "    comm::MPI.Comm      # MPI communicator\n",
    "    bufsize::Integer    # default size of a braid_vector allocation\n",
    "    vec_refs::IdDict    # dictionary which stores global references to\n",
    "                        # braid_vectors, to keep them from being garbage\n",
    "                        # collected while they only exist as C pointers\n",
    "                        # keys are objectid hashes, and values are references\n",
    "end\n",
    "\n",
    "mutable struct braid_vector\n",
    "    data\n",
    "end\n",
    "\n",
    "vec = braid_vector(zeros(4))\n",
    "app = braid_app(MPI.COMM_WORLD, Base.summarysize(vec), IdDict())"
   ]
  },
  {
   "cell_type": "code",
   "execution_count": 16,
   "metadata": {},
   "outputs": [
    {
     "data": {
      "text/plain": [
       "Ptr{Nothing} @0x00007f43d8d7ea00"
      ]
     },
     "metadata": {},
     "output_type": "display_data"
    }
   ],
   "source": [
    "function my_pack!(_app, u, buffer::Ptr{Cvoid}, status::Ptr{Cvoid})::Cint\n",
    "    # println(\"pack\")\n",
    "    vec_ref = unsafe_pointer_to_objref(vec)\n",
    "    data_arr = unsafe_wrap(Vector{UInt8}, Base.unsafe_convert(Ptr{UInt8}, buffer), app.bufsize)\n",
    "    buff = IOBuffer(data_arr, write=true, maxsize=app.bufsize)\n",
    "    serialize(buff, vec_ref)\n",
    "    return 0\n",
    "end\n",
    "\n",
    "function my_unpack!(_app, buffer::Ptr{Cvoid}, u_ptr::Ptr{Ptr{Cvoid}}, status::Ptr{Cvoid})::Cint\n",
    "    # println(\"unpack\")\n",
    "    data_arr = unsafe_wrap(Vector{UInt8}, Base.unsafe_convert(Ptr{UInt8}, buffer), app.bufsize)\n",
    "    buff = IOBuffer(data_arr, read=true, maxsize=app.bufsize)\n",
    "    # unpack the buffer into a julia struct, then register with IdDict and store in u_ptr\n",
    "    u = deserialize(buff)\n",
    "    app.vec_refs[objectid(u)] = u # store reference to u\n",
    "    unsafe_store!(u_ptr, pointer_from_objref(u))\n",
    "\n",
    "    # vec = Base.unsafe_convert(Ptr{Cvoid}, Ref(vec_ref))\n",
    "    return 0\n",
    "end\n",
    "\n",
    "function my_buffsize!(_app, size::Ptr{Cint})::Cint\n",
    "    # println(\"size\")\n",
    "    unsafe_store!(size, app.bufsize)\n",
    "    return 0\n",
    "end\n",
    "\n",
    "function my_access!(_app, u, status::Ptr{Cvoid})::Cint\n",
    "    println(\"access\")\n",
    "    u = unsafe_pointer_to_objref(u)\n",
    "    println(u)\n",
    "    return 0\n",
    "end\n",
    "\n",
    "function my_init!(_app, t::Real, u_ptr::Ptr{Ptr{Cvoid}})::Cint\n",
    "    println(\"init\")\n",
    "    u = braid_vector(zeros(4))\n",
    "    # Since app is in the global scope, u will survive garbage collection even after it goes out of scope here\n",
    "    app.vec_refs[objectid(u)] = u # store reference to u\n",
    "    unsafe_store!(u_ptr, pointer_from_objref(u))\n",
    "    return 0\n",
    "end\n",
    "\n",
    "function my_free!(_app, u::Ptr{Cvoid})::Cint\n",
    "    println(\"free\")\n",
    "    u_ref = unsafe_pointer_to_objref(u)\n",
    "    # removing the global reference to u will allow garbage collection to delete it\n",
    "    pop!(app.vec_refs, objectid(u_ref))\n",
    "    u = C_NULL\n",
    "    return 0\n",
    "end\n",
    "\n",
    "function my_sum!(_app, alpha::Real, x::Ptr{Cvoid}, beta::Real, y::Ptr{Cvoid})::Cint\n",
    "    x_ref = unsafe_pointer_to_objref(x)\n",
    "    y_ref = unsafe_pointer_to_objref(y)\n",
    "    # @. vectorizes every operation in this line, meaning this assignment is in-place!\n",
    "    @. y_ref.data = alpha * x_ref.data + beta * y_ref.data\n",
    "    return 0\n",
    "end\n",
    "\n",
    "function my_clone!(_app, u::Ptr{Cvoid}, v_ptr::Ptr{Ptr{Cvoid}})::Cint\n",
    "    u_ref = unsafe_pointer_to_objref(u)\n",
    "    v_ref = deepcopy(u_ref) # this allocates v_ref and copies u_ref\n",
    "    # need to add reference to ref_ids\n",
    "    app.vec_refs[objectid(v_ref)] = v_ref\n",
    "    unsafe_store!(v_ptr, pointer_from_objref(v_ref))\n",
    "    return 0\n",
    "end\n",
    "\n",
    "pack_c = @cfunction(my_pack!, Cint, (Ptr{Cvoid}, Ptr{Cvoid}, Ptr{Cvoid}, Ptr{Cvoid}))\n",
    "unpack_c = @cfunction(my_unpack!, Cint, (Ptr{Cvoid}, Ptr{Cvoid}, Ptr{Cvoid}, Ptr{Cvoid}))\n",
    "buffsize_c = @cfunction(my_buffsize!, Cint, (Ptr{Cvoid}, Ptr{Cint}))\n",
    "\n",
    "access_c = @cfunction(my_access!, Cint, (Ptr{Cvoid}, Ptr{Cvoid}, Ptr{Cvoid}))\n",
    "init_c = @cfunction(my_init!, Cint, (Ptr{Cvoid}, Cdouble, Ptr{Ptr{Cvoid}}))\n",
    "free_c = @cfunction(my_free!, Cint, (Ptr{Cvoid}, Ptr{Cvoid}))\n",
    "sum_c = @cfunction(my_sum!, Cint, (Ptr{Cvoid}, Cdouble, Ptr{Cvoid}, Cdouble, Ptr{Cvoid}))\n",
    "clone_c = @cfunction(my_clone!, Cint, (Ptr{Cvoid}, Ptr{Cvoid}, Ptr{Ptr{Cvoid}}))"
   ]
  },
  {
   "cell_type": "code",
   "execution_count": 17,
   "metadata": {},
   "outputs": [],
   "source": [
    "using Base.Libc: FILE\n",
    "file = open(\"./test_init_access.txt\", \"w\")\n",
    "@ccall \"./libbraid.so\".braid_TestInitAccess(C_NULL::Ptr{Cvoid}, app.comm::Ptr{MPI.MPI_Comm}, C_NULL::Ptr{Cvoid}, 0.::Cdouble,\n",
    "                                            init_c::Ptr{Cvoid}, access_c::Ptr{Cvoid}, free_c::Ptr{Cvoid})::Cint\n",
    "close(file)"
   ]
  },
  {
   "cell_type": "code",
   "execution_count": 10,
   "metadata": {},
   "outputs": [
    {
     "data": {
      "text/plain": [
       "Ptr{Ptr{Nothing}} @0x000000000185c230"
      ]
     },
     "metadata": {},
     "output_type": "display_data"
    }
   ],
   "source": [
    "u = Ref([1, 2, 3, 4])\n",
    "v = [2, 2, 3, 3]\n",
    "u_ptr = Base.Libc.malloc(8)\n",
    "u_ptr = Base.unsafe_convert(Ptr{Ptr{Cvoid}}, u_ptr)"
   ]
  },
  {
   "cell_type": "code",
   "execution_count": 11,
   "metadata": {},
   "outputs": [
    {
     "name": "stdout",
     "output_type": "stream",
     "text": [
      "init\n"
     ]
    },
    {
     "data": {
      "text/plain": [
       "0"
      ]
     },
     "metadata": {},
     "output_type": "display_data"
    }
   ],
   "source": [
    "my_init!(nothing, 0., u_ptr)"
   ]
  },
  {
   "cell_type": "code",
   "execution_count": 12,
   "metadata": {},
   "outputs": [
    {
     "data": {
      "text/plain": [
       "IdDict{Any, Any} with 1 entry:\n",
       "  0xb5ffab017e576c17 => braid_vector([0.0, 0.0, 0.0, 0.0])"
      ]
     },
     "metadata": {},
     "output_type": "display_data"
    }
   ],
   "source": [
    "app.vec_refs"
   ]
  },
  {
   "cell_type": "code",
   "execution_count": 13,
   "metadata": {},
   "outputs": [
    {
     "name": "stdout",
     "output_type": "stream",
     "text": [
      "free\n"
     ]
    },
    {
     "data": {
      "text/plain": [
       "0"
      ]
     },
     "metadata": {},
     "output_type": "display_data"
    }
   ],
   "source": [
    "my_free!(nothing, unsafe_load(u_ptr))"
   ]
  },
  {
   "cell_type": "code",
   "execution_count": 14,
   "metadata": {},
   "outputs": [
    {
     "data": {
      "text/plain": [
       "IdDict{Any, Any}()"
      ]
     },
     "metadata": {},
     "output_type": "display_data"
    }
   ],
   "source": [
    "app.vec_refs"
   ]
  },
  {
   "cell_type": "code",
   "execution_count": 8,
   "metadata": {},
   "outputs": [
    {
     "data": {
      "text/plain": [
       "free! (generic function with 1 method)"
      ]
     },
     "metadata": {},
     "output_type": "display_data"
    }
   ],
   "source": [
    "function init(a_ptr::Ptr{Ptr{Cvoid}})\n",
    "    a = braid_vector([1, 2, 3])\n",
    "    # add reference to IdDict to maintain global reference,\n",
    "    # or else garbage collection may destroy this later!\n",
    "    ref_ids[objectid(a)] = a\n",
    "    unsafe_store!(a_ptr, pointer_from_objref(a))\n",
    "    pointer_from_objref(a)\n",
    "    return 0\n",
    "end\n",
    "\n",
    "function free!(a_ptr::Ptr{Ptr{Cvoid}})\n",
    "    a = unsafe_pointer_to_objref(a_ptr)\n",
    "    println(ref_ids[objectid(a)])\n",
    "    pop!(ref_ids, objectid(a))\n",
    "    a_ptr = C_NULL\n",
    "end"
   ]
  },
  {
   "cell_type": "code",
   "execution_count": 9,
   "metadata": {},
   "outputs": [
    {
     "name": "stdout",
     "output_type": "stream",
     "text": [
      "IdDict{Any, Any}(0xa2426d04bf525d91 => braid_vector("
     ]
    },
    {
     "name": "stdout",
     "output_type": "stream",
     "text": [
      "[1, 2, 3]), 0xd99a08ae2e018c9b => braid_vector([1, 2, 3]))braid_vector"
     ]
    },
    {
     "name": "stdout",
     "output_type": "stream",
     "text": [
      "([1, 2, 3])\n",
      "braid_vector([1, 2, 3])\n"
     ]
    },
    {
     "data": {
      "text/plain": [
       "Ptr{Nothing} @0x0000000000000000"
      ]
     },
     "metadata": {},
     "output_type": "display_data"
    }
   ],
   "source": [
    "a_ptr = init()\n",
    "b_ptr = init()\n",
    "show(ref_ids)\n",
    "GC.gc()\n",
    "free!(a_ptr)\n",
    "free!(b_ptr)"
   ]
  },
  {
   "cell_type": "code",
   "execution_count": 12,
   "metadata": {},
   "outputs": [
    {
     "data": {
      "text/plain": [
       "IdDict{Any, Any}()"
      ]
     },
     "metadata": {},
     "output_type": "display_data"
    }
   ],
   "source": [
    "ref_ids"
   ]
  },
  {
   "cell_type": "code",
   "execution_count": null,
   "metadata": {},
   "outputs": [],
   "source": []
  }
 ],
 "metadata": {
  "kernelspec": {
   "display_name": "Julia 1.8.5",
   "language": "julia",
   "name": "julia-1.8"
  },
  "language_info": {
   "file_extension": ".jl",
   "mimetype": "application/julia",
   "name": "julia",
   "version": "1.8.5"
  },
  "orig_nbformat": 4,
  "vscode": {
   "interpreter": {
    "hash": "31f2aee4e71d21fbe5cf8b01ff0e069b9275f58929596ceb00d14d90e3e16cd6"
   }
  }
 },
 "nbformat": 4,
 "nbformat_minor": 2
}
